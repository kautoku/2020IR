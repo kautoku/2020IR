{
  "nbformat": 4,
  "nbformat_minor": 0,
  "metadata": {
    "accelerator": "TPU",
    "colab": {
      "name": "TM_project.ipynb",
      "provenance": [],
      "collapsed_sections": [],
      "toc_visible": true
    },
    "kernelspec": {
      "display_name": "Python 3",
      "name": "python3"
    }
  },
  "cells": [
    {
      "cell_type": "code",
      "metadata": {
        "id": "z1TPGFzpQVya"
      },
      "source": [
        "import numpy as np\n",
        "import pandas as pd"
      ],
      "execution_count": null,
      "outputs": []
    },
    {
      "cell_type": "code",
      "metadata": {
        "colab": {
          "base_uri": "https://localhost:8080/"
        },
        "id": "Cu__xkcAPSqV",
        "outputId": "58b2b88c-5199-4345-8f7f-8577f3f4bf5d"
      },
      "source": [
        "from google.colab import drive\n",
        "drive.mount('/content/drive')"
      ],
      "execution_count": null,
      "outputs": [
        {
          "output_type": "stream",
          "text": [
            "Drive already mounted at /content/drive; to attempt to forcibly remount, call drive.mount(\"/content/drive\", force_remount=True).\n"
          ],
          "name": "stdout"
        }
      ]
    },
    {
      "cell_type": "code",
      "metadata": {
        "id": "utv_QLENQbSi"
      },
      "source": [
        "Folder_Path = \"/content/drive/MyDrive/2020TM/\"\n",
        "\n",
        "News_Category_Dataset = Folder_Path+\"/News_Category_Dataset_v2.json\"\n",
        "All_the_news_Dataset = [\n",
        "  Folder_Path+\"/articles1.csv\",\n",
        "  Folder_Path+\"/articles2.csv\",\n",
        "  Folder_Path+\"/articles3.csv\"\n",
        "]"
      ],
      "execution_count": null,
      "outputs": []
    },
    {
      "cell_type": "code",
      "metadata": {
        "id": "_VXzQsisQdTq"
      },
      "source": [
        "def load_train():\n",
        "  data = pd.read_json(News_Category_Dataset, lines=True)\n",
        "  data.rename(columns={\n",
        "    'headline': 'title',\n",
        "    'authors': 'author',\n",
        "    'short_description': 'short_content'\n",
        "  }, inplace=True)\n",
        "  data['date'] = pd.to_datetime(data['date'], format='%Y-%m-%d')\n",
        "  return data\n",
        "\n",
        "def load_test():\n",
        "  all_data = []\n",
        "  for file in All_the_news_Dataset:\n",
        "    all_data.append(pd.read_csv(file))\n",
        "  all_data = pd.concat(all_data)\n",
        "  all_data['date'] = pd.to_datetime(all_data['date'], format='%Y-%m-%d')\n",
        "  return all_data"
      ],
      "execution_count": null,
      "outputs": []
    },
    {
      "cell_type": "markdown",
      "metadata": {
        "id": "vmlMAy6fR2xC"
      },
      "source": [
        "##load data and drop useless column"
      ]
    },
    {
      "cell_type": "code",
      "metadata": {
        "id": "QvzeBurDRqFM"
      },
      "source": [
        "#load data\n",
        "df_train = load_train()\n",
        "df_test = load_test()\n",
        "df_train.drop(['link'], axis=1, inplace=True)\n",
        "df_test.drop(['Unnamed: 0', 'id', 'url', 'year', 'month'], axis=1, inplace=True)"
      ],
      "execution_count": null,
      "outputs": []
    },
    {
      "cell_type": "code",
      "metadata": {
        "colab": {
          "base_uri": "https://localhost:8080/"
        },
        "id": "gZ9kSYUqR9Zh",
        "outputId": "6c93cf90-1f89-425f-8948-e9d349bffad3"
      },
      "source": [
        "df_train.info()"
      ],
      "execution_count": null,
      "outputs": [
        {
          "output_type": "stream",
          "text": [
            "<class 'pandas.core.frame.DataFrame'>\n",
            "RangeIndex: 200853 entries, 0 to 200852\n",
            "Data columns (total 5 columns):\n",
            " #   Column         Non-Null Count   Dtype         \n",
            "---  ------         --------------   -----         \n",
            " 0   category       200853 non-null  object        \n",
            " 1   title          200853 non-null  object        \n",
            " 2   author         200853 non-null  object        \n",
            " 3   short_content  200853 non-null  object        \n",
            " 4   date           200853 non-null  datetime64[ns]\n",
            "dtypes: datetime64[ns](1), object(4)\n",
            "memory usage: 7.7+ MB\n"
          ],
          "name": "stdout"
        }
      ]
    },
    {
      "cell_type": "code",
      "metadata": {
        "colab": {
          "base_uri": "https://localhost:8080/"
        },
        "id": "ZAjPBgWsR2IR",
        "outputId": "45ae58f1-5cd2-43bb-c947-39f3aaf73854"
      },
      "source": [
        "df_test.info()"
      ],
      "execution_count": null,
      "outputs": [
        {
          "output_type": "stream",
          "text": [
            "<class 'pandas.core.frame.DataFrame'>\n",
            "Int64Index: 142570 entries, 0 to 42570\n",
            "Data columns (total 5 columns):\n",
            " #   Column       Non-Null Count   Dtype         \n",
            "---  ------       --------------   -----         \n",
            " 0   title        142568 non-null  object        \n",
            " 1   publication  142570 non-null  object        \n",
            " 2   author       126694 non-null  object        \n",
            " 3   date         139929 non-null  datetime64[ns]\n",
            " 4   content      142570 non-null  object        \n",
            "dtypes: datetime64[ns](1), object(4)\n",
            "memory usage: 6.5+ MB\n"
          ],
          "name": "stdout"
        }
      ]
    },
    {
      "cell_type": "markdown",
      "metadata": {
        "id": "hx3DMbUZSZPU"
      },
      "source": [
        "###deal with NaN\n",
        "\n",
        "there's NaN in testing data\n",
        "\n",
        "so we need to handle it"
      ]
    },
    {
      "cell_type": "code",
      "metadata": {
        "id": "QFXGb-sIuQRP",
        "colab": {
          "base_uri": "https://localhost:8080/",
          "height": 197
        },
        "outputId": "fa94ea08-7990-4bab-87f8-5f157c085eb1"
      },
      "source": [
        "df_train[df_train.title.str.len()<10].head()"
      ],
      "execution_count": null,
      "outputs": [
        {
          "output_type": "execute_result",
          "data": {
            "text/html": [
              "<div>\n",
              "<style scoped>\n",
              "    .dataframe tbody tr th:only-of-type {\n",
              "        vertical-align: middle;\n",
              "    }\n",
              "\n",
              "    .dataframe tbody tr th {\n",
              "        vertical-align: top;\n",
              "    }\n",
              "\n",
              "    .dataframe thead th {\n",
              "        text-align: right;\n",
              "    }\n",
              "</style>\n",
              "<table border=\"1\" class=\"dataframe\">\n",
              "  <thead>\n",
              "    <tr style=\"text-align: right;\">\n",
              "      <th></th>\n",
              "      <th>category</th>\n",
              "      <th>title</th>\n",
              "      <th>author</th>\n",
              "      <th>short_content</th>\n",
              "      <th>date</th>\n",
              "    </tr>\n",
              "  </thead>\n",
              "  <tbody>\n",
              "    <tr>\n",
              "      <th>7826</th>\n",
              "      <td>POLITICS</td>\n",
              "      <td>War Pay</td>\n",
              "      <td>William D. Hartung, ContributorWriter and Fore...</td>\n",
              "      <td>Another good year for weapons makers is guaran...</td>\n",
              "      <td>2018-01-11</td>\n",
              "    </tr>\n",
              "    <tr>\n",
              "      <th>10904</th>\n",
              "      <td>POLITICS</td>\n",
              "      <td>What If?</td>\n",
              "      <td>Danny Sjursen, ContributorU.S. Army strategist...</td>\n",
              "      <td>An alternative strategy for 9/12/2001.</td>\n",
              "      <td>2017-11-27</td>\n",
              "    </tr>\n",
              "    <tr>\n",
              "      <th>11326</th>\n",
              "      <td>GREEN</td>\n",
              "      <td>Nebraska</td>\n",
              "      <td>Michael Brune, ContributorExecutive Director, ...</td>\n",
              "      <td>We must continue to promote clean, renewable e...</td>\n",
              "      <td>2017-11-20</td>\n",
              "    </tr>\n",
              "    <tr>\n",
              "      <th>11645</th>\n",
              "      <td>POLITICS</td>\n",
              "      <td>Impeach!</td>\n",
              "      <td>Michael Moore, ContributorOscar and Emmy-winni...</td>\n",
              "      <td>We can't wait until November 2020.</td>\n",
              "      <td>2017-11-16</td>\n",
              "    </tr>\n",
              "    <tr>\n",
              "      <th>12061</th>\n",
              "      <td>POLITICS</td>\n",
              "      <td>Victory!</td>\n",
              "      <td>Barbara Boxer, ContributorFormer U.S. Senator;...</td>\n",
              "      <td>Can You Believe? Can you believe Trump’s sayin...</td>\n",
              "      <td>2017-11-10</td>\n",
              "    </tr>\n",
              "  </tbody>\n",
              "</table>\n",
              "</div>"
            ],
            "text/plain": [
              "       category  ...       date\n",
              "7826   POLITICS  ... 2018-01-11\n",
              "10904  POLITICS  ... 2017-11-27\n",
              "11326     GREEN  ... 2017-11-20\n",
              "11645  POLITICS  ... 2017-11-16\n",
              "12061  POLITICS  ... 2017-11-10\n",
              "\n",
              "[5 rows x 5 columns]"
            ]
          },
          "metadata": {
            "tags": []
          },
          "execution_count": 8
        }
      ]
    },
    {
      "cell_type": "code",
      "metadata": {
        "colab": {
          "base_uri": "https://localhost:8080/"
        },
        "id": "hPVnT5NZKYtJ",
        "outputId": "ec751a6b-052a-475d-9b81-5e6c42b514d9"
      },
      "source": [
        "df_train = df_train[df_train.short_content.str.len()>50]\n",
        "df_train = df_train[df_train.title.str.len()>10]\n",
        "df_train.loc[df_train.author.str.len()==0, 'author'] = \"other_author\"\n",
        "df_train.reset_index(drop=True, inplace=True)\n",
        "df_train.shape"
      ],
      "execution_count": null,
      "outputs": [
        {
          "output_type": "execute_result",
          "data": {
            "text/plain": [
              "(155291, 5)"
            ]
          },
          "metadata": {
            "tags": []
          },
          "execution_count": 9
        }
      ]
    },
    {
      "cell_type": "code",
      "metadata": {
        "colab": {
          "base_uri": "https://localhost:8080/"
        },
        "id": "wL6oP7bYRwIp",
        "outputId": "e02718ca-c255-4d42-d7cc-9d495f9dc383"
      },
      "source": [
        "df_test.dropna(subset=['title', 'date'], inplace=True)\n",
        "df_test['author'].fillna(\"other_author\", inplace=True)\n",
        "df_test = df_test[df_test.content.str.len()>100]\n",
        "df_test.reset_index(drop=True, inplace=True)\n",
        "df_test.shape"
      ],
      "execution_count": null,
      "outputs": [
        {
          "output_type": "execute_result",
          "data": {
            "text/plain": [
              "(139480, 5)"
            ]
          },
          "metadata": {
            "tags": []
          },
          "execution_count": 10
        }
      ]
    },
    {
      "cell_type": "code",
      "metadata": {
        "id": "tNCsX15dLP66"
      },
      "source": [
        ""
      ],
      "execution_count": null,
      "outputs": []
    },
    {
      "cell_type": "markdown",
      "metadata": {
        "id": "lldGslM0D7og"
      },
      "source": [
        "### Category(training data)\n",
        "\n",
        "since training content is short\n",
        "\n",
        "we cancat title with short_content as training data"
      ]
    },
    {
      "cell_type": "code",
      "metadata": {
        "id": "Hn9or9WXS3b8"
      },
      "source": [
        "#train feature\n",
        "training = pd.DataFrame()\n",
        "training['id']    = np.arange(1, df_train.shape[0]+1)\n",
        "training['data']   = df_train['title'] + \" \" + df_train['short_content']\n",
        "training['author']  = df_train.author\n",
        "training['date']   = df_train.date\n",
        "training['category'] = df_train.category\n",
        "training.head()\n",
        "del df_train"
      ],
      "execution_count": null,
      "outputs": []
    },
    {
      "cell_type": "markdown",
      "metadata": {
        "id": "zB2JfVTGFNLH"
      },
      "source": [
        "training的分類有重複\n",
        "\n",
        "把其中相似的種類合併"
      ]
    },
    {
      "cell_type": "code",
      "metadata": {
        "colab": {
          "base_uri": "https://localhost:8080/"
        },
        "id": "e9ycCiUuFu8_",
        "outputId": "da4f47e3-0da2-46cf-d194-31266f83f7a4"
      },
      "source": [
        "categories = training.groupby('category')\n",
        "print('total categories: {}'.format(categories.ngroups))\n",
        "print(categories.size())"
      ],
      "execution_count": null,
      "outputs": [
        {
          "output_type": "stream",
          "text": [
            "total categories: 41\n",
            "category\n",
            "ARTS                851\n",
            "ARTS & CULTURE      996\n",
            "BLACK VOICES       3602\n",
            "BUSINESS           4757\n",
            "COLLEGE             866\n",
            "COMEDY             2723\n",
            "CRIME              2378\n",
            "CULTURE & ARTS      997\n",
            "DIVORCE            3384\n",
            "EDUCATION           880\n",
            "ENTERTAINMENT      8446\n",
            "ENVIRONMENT        1318\n",
            "FIFTY              1040\n",
            "FOOD & DRINK       4837\n",
            "GOOD NEWS           615\n",
            "GREEN              1897\n",
            "HEALTHY LIVING     4358\n",
            "HOME & LIVING      3489\n",
            "IMPACT             2905\n",
            "LATINO VOICES       847\n",
            "MEDIA              1965\n",
            "MONEY              1702\n",
            "PARENTING          8554\n",
            "PARENTS            2710\n",
            "POLITICS          25200\n",
            "QUEER VOICES       4859\n",
            "RELIGION           1687\n",
            "SCIENCE            1565\n",
            "SPORTS             2984\n",
            "STYLE               607\n",
            "STYLE & BEAUTY     8951\n",
            "TASTE              1182\n",
            "TECH               1670\n",
            "THE WORLDPOST      3271\n",
            "TRAVEL             9022\n",
            "WEDDINGS           3619\n",
            "WEIRD NEWS         1070\n",
            "WELLNESS          17708\n",
            "WOMEN              2556\n",
            "WORLD NEWS         1993\n",
            "WORLDPOST          1230\n",
            "dtype: int64\n"
          ],
          "name": "stdout"
        }
      ]
    },
    {
      "cell_type": "code",
      "metadata": {
        "colab": {
          "base_uri": "https://localhost:8080/"
        },
        "id": "3j_tZgwlV8RX",
        "outputId": "1a230e14-cfb9-4e43-c84e-90e2b5c48c2b"
      },
      "source": [
        "#train label\n",
        "training['category'] = training.category.map(lambda x: \"WORLD NEWS\" if x == \"WORLD NEWS\" or x == \"WORLDPOST\" else x)\n",
        "training['category'] = training.category.map(lambda x: \"RACIAL & LGBTQ ISSUES\" if x == \"BLACK VOICES\" or x == \"LATINO VOICES\" or x == \"QUEER VOICES\" else x)\n",
        "training['category'] = training.category.map(lambda x: \"CULTURE\" if x == \"ARTS\" or x == \"CULTURE & ARTS\" or x == \"ARTS & CULTURE\" else x)\n",
        "training['category'] = training.category.map(lambda x: \"BUSINESS\" if x == \"BUSINESS\" or x == \"MONEY\" else x)\n",
        "training['category'] = training.category.map(lambda x: \"EDUCATION\" if x == \"EDUCATION\" or x == \"COLLEGE\" else x)\n",
        "training['category'] = training.category.map(lambda x: \"SCIENCE & TECHNOLOGY\" if x == \"SCIENCE\" or x == \"TECH\" else x)\n",
        "training['category'] = training.category.map(lambda x: \"WEDDING & DIVORCE\" if x == \"WEDDING\" or x == \"DIVORCE\" or x == \"WEDDINGS\" else x)\n",
        "training['category'] = training.category.map(lambda x: \"PARENTING\" if x == \"PARENTING\" or x == \"PARENT\" or x == \"PARENTS\" else x)\n",
        "training['category'] = training.category.map(lambda x: \"FOOD\" if x == \"TASTE\" or x == \"FOOD & DRINK\" else x)\n",
        "training['category'] = training.category.map(lambda x: \"STYLE & BEAUTY\" if x == \"STYLE\" or x == \"STYLE & BEAUTY\" else x)\n",
        "\n",
        "\n",
        "\n",
        "categories = training.groupby('category')\n",
        "print('total categories: {}'.format(categories.ngroups))\n",
        "print(categories.size())"
      ],
      "execution_count": null,
      "outputs": [
        {
          "output_type": "stream",
          "text": [
            "total categories: 29\n",
            "category\n",
            "BUSINESS                  6459\n",
            "COMEDY                    2723\n",
            "CRIME                     2378\n",
            "CULTURE                   2844\n",
            "EDUCATION                 1746\n",
            "ENTERTAINMENT             8446\n",
            "ENVIRONMENT               1318\n",
            "FIFTY                     1040\n",
            "FOOD                      6019\n",
            "GOOD NEWS                  615\n",
            "GREEN                     1897\n",
            "HEALTHY LIVING            4358\n",
            "HOME & LIVING             3489\n",
            "IMPACT                    2905\n",
            "MEDIA                     1965\n",
            "PARENTING                11264\n",
            "POLITICS                 25200\n",
            "RACIAL & LGBTQ ISSUES     9308\n",
            "RELIGION                  1687\n",
            "SCIENCE & TECHNOLOGY      3235\n",
            "SPORTS                    2984\n",
            "STYLE & BEAUTY            9558\n",
            "THE WORLDPOST             3271\n",
            "TRAVEL                    9022\n",
            "WEDDING & DIVORCE         7003\n",
            "WEIRD NEWS                1070\n",
            "WELLNESS                 17708\n",
            "WOMEN                     2556\n",
            "WORLD NEWS                3223\n",
            "dtype: int64\n"
          ],
          "name": "stdout"
        }
      ]
    },
    {
      "cell_type": "code",
      "metadata": {
        "colab": {
          "base_uri": "https://localhost:8080/",
          "height": 264
        },
        "id": "hTno8OdJQ453",
        "outputId": "125ac57b-0b3a-4580-8a09-68fc1494fa7a"
      },
      "source": [
        "from collections import Counter\n",
        "from matplotlib import pyplot\n",
        "\n",
        "counter = Counter(training['category'])\n",
        "# plot the distribution\n",
        "pyplot.bar(counter.keys(), counter.values())\n",
        "pyplot.show()"
      ],
      "execution_count": null,
      "outputs": [
        {
          "output_type": "display_data",
          "data": {
            "image/png": "[encoded data removed]",
            "text/plain": [
              "<Figure size 432x288 with 1 Axes>"
            ]
          },
          "metadata": {
            "tags": [],
            "needs_background": "light"
          }
        }
      ]
    },
    {
      "cell_type": "markdown",
      "metadata": {
        "id": "cPrWPDmfdffa"
      },
      "source": [
        "###Testing data"
      ]
    },
    {
      "cell_type": "code",
      "metadata": {
        "id": "dqniWlgFOqK5",
        "colab": {
          "base_uri": "https://localhost:8080/",
          "height": 197
        },
        "outputId": "9c4cebe6-aa78-42d7-95a2-8d0bd948b2a8"
      },
      "source": [
        "testing = pd.DataFrame()\n",
        "testing['id']   = np.arange(1, df_test.shape[0]+1)\n",
        "testing['data']  = df_test['title'] + \" \" + df_test['content']\n",
        "testing['author'] = df_test.author\n",
        "testing['date']  = df_test.date\n",
        "testing['publication'] = df_test.publication\n",
        "testing.head()\n",
        "#del df_test"
      ],
      "execution_count": null,
      "outputs": [
        {
          "output_type": "execute_result",
          "data": {
            "text/html": [
              "<div>\n",
              "<style scoped>\n",
              "    .dataframe tbody tr th:only-of-type {\n",
              "        vertical-align: middle;\n",
              "    }\n",
              "\n",
              "    .dataframe tbody tr th {\n",
              "        vertical-align: top;\n",
              "    }\n",
              "\n",
              "    .dataframe thead th {\n",
              "        text-align: right;\n",
              "    }\n",
              "</style>\n",
              "<table border=\"1\" class=\"dataframe\">\n",
              "  <thead>\n",
              "    <tr style=\"text-align: right;\">\n",
              "      <th></th>\n",
              "      <th>id</th>\n",
              "      <th>data</th>\n",
              "      <th>author</th>\n",
              "      <th>date</th>\n",
              "      <th>publication</th>\n",
              "    </tr>\n",
              "  </thead>\n",
              "  <tbody>\n",
              "    <tr>\n",
              "      <th>0</th>\n",
              "      <td>1</td>\n",
              "      <td>House Republicans Fret About Winning Their Hea...</td>\n",
              "      <td>Carl Hulse</td>\n",
              "      <td>2016-12-31</td>\n",
              "      <td>New York Times</td>\n",
              "    </tr>\n",
              "    <tr>\n",
              "      <th>1</th>\n",
              "      <td>2</td>\n",
              "      <td>Rift Between Officers and Residents as Killing...</td>\n",
              "      <td>Benjamin Mueller and Al Baker</td>\n",
              "      <td>2017-06-19</td>\n",
              "      <td>New York Times</td>\n",
              "    </tr>\n",
              "    <tr>\n",
              "      <th>2</th>\n",
              "      <td>3</td>\n",
              "      <td>Tyrus Wong, ‘Bambi’ Artist Thwarted by Racial ...</td>\n",
              "      <td>Margalit Fox</td>\n",
              "      <td>2017-01-06</td>\n",
              "      <td>New York Times</td>\n",
              "    </tr>\n",
              "    <tr>\n",
              "      <th>3</th>\n",
              "      <td>4</td>\n",
              "      <td>Among Deaths in 2016, a Heavy Toll in Pop Musi...</td>\n",
              "      <td>William McDonald</td>\n",
              "      <td>2017-04-10</td>\n",
              "      <td>New York Times</td>\n",
              "    </tr>\n",
              "    <tr>\n",
              "      <th>4</th>\n",
              "      <td>5</td>\n",
              "      <td>Kim Jong-un Says North Korea Is Preparing to T...</td>\n",
              "      <td>Choe Sang-Hun</td>\n",
              "      <td>2017-01-02</td>\n",
              "      <td>New York Times</td>\n",
              "    </tr>\n",
              "  </tbody>\n",
              "</table>\n",
              "</div>"
            ],
            "text/plain": [
              "   id  ...     publication\n",
              "0   1  ...  New York Times\n",
              "1   2  ...  New York Times\n",
              "2   3  ...  New York Times\n",
              "3   4  ...  New York Times\n",
              "4   5  ...  New York Times\n",
              "\n",
              "[5 rows x 5 columns]"
            ]
          },
          "metadata": {
            "tags": []
          },
          "execution_count": 15
        }
      ]
    },
    {
      "cell_type": "markdown",
      "metadata": {
        "id": "4J2M3bvVdj9y"
      },
      "source": [
        "## Sentence Preprocess\n",
        "\n",
        "Tokenize and Stemming"
      ]
    },
    {
      "cell_type": "code",
      "metadata": {
        "colab": {
          "base_uri": "https://localhost:8080/",
          "height": 409
        },
        "id": "-p4aZdznXS_D",
        "outputId": "2a3ada55-0759-4258-b26c-d76eb55b3b81"
      },
      "source": [
        "import nltk\n",
        "nltk.download('stopwords')\n",
        "from sklearn.feature_extraction.text import CountVectorizer\n",
        "from nltk.corpus import stopwords\n",
        "\n",
        "TF_vectorizer = CountVectorizer(stop_words='english', decode_error='ignore', min_df=10)\n",
        "train_tf_vec = TF_vectorizer.fit_transform(training.data)\n",
        "print(\"training term frequency:\")\n",
        "print(train_tf_vec.shape)\n",
        "test_tf_vec = TF_vectorizer.transform(testing.data)\n",
        "print(\"testing term frequency:\")\n",
        "print(test_tf_vec.shape)\n",
        "\n",
        "print(\"y_train:\")\n",
        "print(training.category.shape)"
      ],
      "execution_count": null,
      "outputs": [
        {
          "output_type": "stream",
          "text": [
            "[nltk_data] Downloading package stopwords to /root/nltk_data...\n",
            "[nltk_data]   Package stopwords is already up-to-date!\n"
          ],
          "name": "stdout"
        },
        {
          "output_type": "error",
          "ename": "KeyboardInterrupt",
          "evalue": "ignored",
          "traceback": [
            "\u001b[0;31m---------------------------------------------------------------------------\u001b[0m",
            "\u001b[0;31mKeyboardInterrupt\u001b[0m                         Traceback (most recent call last)",
            "\u001b[0;32m<ipython-input-16-26e5179b9bf0>\u001b[0m in \u001b[0;36m<module>\u001b[0;34m()\u001b[0m\n\u001b[1;32m      5\u001b[0m \u001b[0;34m\u001b[0m\u001b[0m\n\u001b[1;32m      6\u001b[0m \u001b[0mTF_vectorizer\u001b[0m \u001b[0;34m=\u001b[0m \u001b[0mCountVectorizer\u001b[0m\u001b[0;34m(\u001b[0m\u001b[0mstop_words\u001b[0m\u001b[0;34m=\u001b[0m\u001b[0;34m'english'\u001b[0m\u001b[0;34m,\u001b[0m \u001b[0mdecode_error\u001b[0m\u001b[0;34m=\u001b[0m\u001b[0;34m'ignore'\u001b[0m\u001b[0;34m,\u001b[0m \u001b[0mmin_df\u001b[0m\u001b[0;34m=\u001b[0m\u001b[0;36m10\u001b[0m\u001b[0;34m)\u001b[0m\u001b[0;34m\u001b[0m\u001b[0;34m\u001b[0m\u001b[0m\n\u001b[0;32m----> 7\u001b[0;31m \u001b[0mtrain_tf_vec\u001b[0m \u001b[0;34m=\u001b[0m \u001b[0mTF_vectorizer\u001b[0m\u001b[0;34m.\u001b[0m\u001b[0mfit_transform\u001b[0m\u001b[0;34m(\u001b[0m\u001b[0mtraining\u001b[0m\u001b[0;34m.\u001b[0m\u001b[0mdata\u001b[0m\u001b[0;34m)\u001b[0m\u001b[0;34m\u001b[0m\u001b[0;34m\u001b[0m\u001b[0m\n\u001b[0m\u001b[1;32m      8\u001b[0m \u001b[0mprint\u001b[0m\u001b[0;34m(\u001b[0m\u001b[0;34m\"training term frequency:\"\u001b[0m\u001b[0;34m)\u001b[0m\u001b[0;34m\u001b[0m\u001b[0;34m\u001b[0m\u001b[0m\n\u001b[1;32m      9\u001b[0m \u001b[0mprint\u001b[0m\u001b[0;34m(\u001b[0m\u001b[0mtrain_tf_vec\u001b[0m\u001b[0;34m.\u001b[0m\u001b[0mshape\u001b[0m\u001b[0;34m)\u001b[0m\u001b[0;34m\u001b[0m\u001b[0;34m\u001b[0m\u001b[0m\n",
            "\u001b[0;32m/usr/local/lib/python3.6/dist-packages/sklearn/feature_extraction/text.py\u001b[0m in \u001b[0;36mfit_transform\u001b[0;34m(self, raw_documents, y)\u001b[0m\n\u001b[1;32m   1218\u001b[0m \u001b[0;34m\u001b[0m\u001b[0m\n\u001b[1;32m   1219\u001b[0m         vocabulary, X = self._count_vocab(raw_documents,\n\u001b[0;32m-> 1220\u001b[0;31m                                           self.fixed_vocabulary_)\n\u001b[0m\u001b[1;32m   1221\u001b[0m \u001b[0;34m\u001b[0m\u001b[0m\n\u001b[1;32m   1222\u001b[0m         \u001b[0;32mif\u001b[0m \u001b[0mself\u001b[0m\u001b[0;34m.\u001b[0m\u001b[0mbinary\u001b[0m\u001b[0;34m:\u001b[0m\u001b[0;34m\u001b[0m\u001b[0;34m\u001b[0m\u001b[0m\n",
            "\u001b[0;32m/usr/local/lib/python3.6/dist-packages/sklearn/feature_extraction/text.py\u001b[0m in \u001b[0;36m_count_vocab\u001b[0;34m(self, raw_documents, fixed_vocab)\u001b[0m\n\u001b[1;32m   1129\u001b[0m         \u001b[0;32mfor\u001b[0m \u001b[0mdoc\u001b[0m \u001b[0;32min\u001b[0m \u001b[0mraw_documents\u001b[0m\u001b[0;34m:\u001b[0m\u001b[0;34m\u001b[0m\u001b[0;34m\u001b[0m\u001b[0m\n\u001b[1;32m   1130\u001b[0m             \u001b[0mfeature_counter\u001b[0m \u001b[0;34m=\u001b[0m \u001b[0;34m{\u001b[0m\u001b[0;34m}\u001b[0m\u001b[0;34m\u001b[0m\u001b[0;34m\u001b[0m\u001b[0m\n\u001b[0;32m-> 1131\u001b[0;31m             \u001b[0;32mfor\u001b[0m \u001b[0mfeature\u001b[0m \u001b[0;32min\u001b[0m \u001b[0manalyze\u001b[0m\u001b[0;34m(\u001b[0m\u001b[0mdoc\u001b[0m\u001b[0;34m)\u001b[0m\u001b[0;34m:\u001b[0m\u001b[0;34m\u001b[0m\u001b[0;34m\u001b[0m\u001b[0m\n\u001b[0m\u001b[1;32m   1132\u001b[0m                 \u001b[0;32mtry\u001b[0m\u001b[0;34m:\u001b[0m\u001b[0;34m\u001b[0m\u001b[0;34m\u001b[0m\u001b[0m\n\u001b[1;32m   1133\u001b[0m                     \u001b[0mfeature_idx\u001b[0m \u001b[0;34m=\u001b[0m \u001b[0mvocabulary\u001b[0m\u001b[0;34m[\u001b[0m\u001b[0mfeature\u001b[0m\u001b[0;34m]\u001b[0m\u001b[0;34m\u001b[0m\u001b[0;34m\u001b[0m\u001b[0m\n",
            "\u001b[0;32m/usr/local/lib/python3.6/dist-packages/sklearn/feature_extraction/text.py\u001b[0m in \u001b[0;36m_analyze\u001b[0;34m(doc, analyzer, tokenizer, ngrams, preprocessor, decoder, stop_words)\u001b[0m\n\u001b[1;32m    103\u001b[0m             \u001b[0mdoc\u001b[0m \u001b[0;34m=\u001b[0m \u001b[0mpreprocessor\u001b[0m\u001b[0;34m(\u001b[0m\u001b[0mdoc\u001b[0m\u001b[0;34m)\u001b[0m\u001b[0;34m\u001b[0m\u001b[0;34m\u001b[0m\u001b[0m\n\u001b[1;32m    104\u001b[0m         \u001b[0;32mif\u001b[0m \u001b[0mtokenizer\u001b[0m \u001b[0;32mis\u001b[0m \u001b[0;32mnot\u001b[0m \u001b[0;32mNone\u001b[0m\u001b[0;34m:\u001b[0m\u001b[0;34m\u001b[0m\u001b[0;34m\u001b[0m\u001b[0m\n\u001b[0;32m--> 105\u001b[0;31m             \u001b[0mdoc\u001b[0m \u001b[0;34m=\u001b[0m \u001b[0mtokenizer\u001b[0m\u001b[0;34m(\u001b[0m\u001b[0mdoc\u001b[0m\u001b[0;34m)\u001b[0m\u001b[0;34m\u001b[0m\u001b[0;34m\u001b[0m\u001b[0m\n\u001b[0m\u001b[1;32m    106\u001b[0m         \u001b[0;32mif\u001b[0m \u001b[0mngrams\u001b[0m \u001b[0;32mis\u001b[0m \u001b[0;32mnot\u001b[0m \u001b[0;32mNone\u001b[0m\u001b[0;34m:\u001b[0m\u001b[0;34m\u001b[0m\u001b[0;34m\u001b[0m\u001b[0m\n\u001b[1;32m    107\u001b[0m             \u001b[0;32mif\u001b[0m \u001b[0mstop_words\u001b[0m \u001b[0;32mis\u001b[0m \u001b[0;32mnot\u001b[0m \u001b[0;32mNone\u001b[0m\u001b[0;34m:\u001b[0m\u001b[0;34m\u001b[0m\u001b[0;34m\u001b[0m\u001b[0m\n",
            "\u001b[0;31mKeyboardInterrupt\u001b[0m: "
          ]
        }
      ]
    },
    {
      "cell_type": "code",
      "metadata": {
        "id": "ctNeclgNtpmA"
      },
      "source": [
        ""
      ],
      "execution_count": null,
      "outputs": []
    },
    {
      "cell_type": "markdown",
      "metadata": {
        "id": "vk9DIh1CA2PL"
      },
      "source": [
        "### Tokenize"
      ]
    },
    {
      "cell_type": "code",
      "metadata": {
        "colab": {
          "base_uri": "https://localhost:8080/"
        },
        "id": "e4JRkU71mTQS",
        "outputId": "d89500ee-df63-41e8-a75f-cf0e0ee2bc74"
      },
      "source": [
        "import nltk\n",
        "nltk.download('stopwords')"
      ],
      "execution_count": null,
      "outputs": [
        {
          "output_type": "stream",
          "text": [
            "[nltk_data] Downloading package stopwords to /root/nltk_data...\n",
            "[nltk_data]   Package stopwords is already up-to-date!\n"
          ],
          "name": "stdout"
        },
        {
          "output_type": "execute_result",
          "data": {
            "text/plain": [
              "True"
            ]
          },
          "metadata": {
            "tags": []
          },
          "execution_count": 16
        }
      ]
    },
    {
      "cell_type": "code",
      "metadata": {
        "id": "zjBGVPNZ8sD8"
      },
      "source": [
        "class CountVectorizer():\n",
        "  def _analyze(doc)\n",
        "    if decoder is not None:\n",
        "      doc = decoder(doc)\n",
        "    if analyzer is not None:\n",
        "      doc = analyzer(doc)\n",
        "    else:\n",
        "      if preprocessor is not None:\n",
        "        doc = preprocessor(doc)\n",
        "      if tokenizer is not None:\n",
        "        doc = tokenizer(doc)\n",
        "    return doc\n",
        "\n",
        "\n",
        "from sklearn.feature_extraction.text import CountVectorizer\n",
        "from nltk import PorterStemmer\n",
        "stemmer = PorterStemmer()\n",
        "\n",
        "class StemmedCountVectorizer(CountVectorizer):\n",
        "  def build_analyzer(self):\n",
        "    analyzer = super(StemmedCountVectorizer, self).build_analyzer()\n",
        "    return lambda doc: ([stemmer.stem(w) for w in analyzer(doc)]) \n",
        "\n",
        "\n",
        "  "
      ],
      "execution_count": null,
      "outputs": []
    },
    {
      "cell_type": "code",
      "metadata": {
        "id": "R86f9e0tDOPT"
      },
      "source": [
        "V <- vocabs\n",
        "for doc <- 1 to D\n",
        "do tokens = _analyze(doc)\n",
        "  N <- len(tokens)\n",
        "  for i <- 1 to N\n",
        "  do term = stem(tokens[i]) \n",
        "    idx = V.argwhere(term)\n",
        "    TF[doc][idx] += 1\n",
        "\n",
        "V <- vocabs\n",
        "for doc <- 1 to D\n",
        "do tokens = _analyze(doc)\n",
        "  N <- len(tokens)\n",
        "  for i <- 1 to N\n",
        "  do term = tokens[i]\n",
        "    idx = V.argwhere(term)\n",
        "    TF[doc][idx] += 1\n",
        "\n",
        "T <- len(V)\n",
        "for t <- 1 to T\n",
        "do term = stem(V[t])\n",
        "  idx = V.argwhere(V[t])\n",
        "  s_TF[idx] += transpose(TF)[t] //vector add"
      ],
      "execution_count": null,
      "outputs": []
    },
    {
      "cell_type": "code",
      "metadata": {
        "id": "5RD-q85H4f5Y"
      },
      "source": [
        "from sklearn.feature_extraction.text import CountVectorizer\n",
        "from nltk import PorterStemmer\n",
        "stemmer = PorterStemmer()\n",
        "\n",
        "class StemmedCountVectorizer(CountVectorizer):\n",
        "    def build_analyzer(self):\n",
        "        analyzer = super(StemmedCountVectorizer, self).build_analyzer()\n",
        "        return lambda doc: ([stemmer.stem(w) for w in analyzer(doc)])\n"
      ],
      "execution_count": null,
      "outputs": []
    },
    {
      "cell_type": "code",
      "metadata": {
        "id": "OOwaxs5JCeka"
      },
      "source": [
        ""
      ],
      "execution_count": null,
      "outputs": []
    },
    {
      "cell_type": "code",
      "metadata": {
        "id": "CYNOy2Z36I2F"
      },
      "source": [
        "from sklearn.feature_extraction.text import CountVectorizer\n",
        "from nltk.corpus import stopwords\n",
        "\n",
        "TF_vectorizer = CountVectorizer(stop_words='english', decode_error='ignore', min_df=10)"
      ],
      "execution_count": null,
      "outputs": []
    },
    {
      "cell_type": "code",
      "metadata": {
        "colab": {
          "base_uri": "https://localhost:8080/"
        },
        "id": "zhNMQYPQdMFo",
        "outputId": "64cbee82-5104-40bd-871a-eeac41b75536"
      },
      "source": [
        "train_tf_vec = TF_vectorizer.fit_transform(training.data)\n",
        "print(\"training term frequency:\")\n",
        "print(train_tf_vec.shape)\n",
        "test_tf_vec = TF_vectorizer.transform(testing.data)\n",
        "print(\"testing term frequency:\")\n",
        "print(test_tf_vec.shape)\n",
        "\n",
        "print(\"y_train:\")\n",
        "print(training.category.shape)"
      ],
      "execution_count": null,
      "outputs": [
        {
          "output_type": "stream",
          "text": [
            "training term frequency:\n",
            "(155291, 20387)\n",
            "testing term frequency:\n",
            "(139480, 20387)\n",
            "y_train:\n",
            "(155291,)\n"
          ],
          "name": "stdout"
        }
      ]
    },
    {
      "cell_type": "code",
      "metadata": {
        "id": "3BY1uvC1fnn7"
      },
      "source": [
        "np.save(Folder_Path + '/train_TF', train_tf_vec)\n",
        "np.save(Folder_Path + '/test_TF', test_tf_vec)"
      ],
      "execution_count": null,
      "outputs": []
    },
    {
      "cell_type": "code",
      "metadata": {
        "id": "6KtMhSXUi6k7"
      },
      "source": [
        "train_vec = np.load((Folder_Path+'/train_TF.npy'), allow_pickle=True).item()\n",
        "test_vec = np.load((Folder_Path + '/test_TF.npy'), allow_pickle=True).item()"
      ],
      "execution_count": null,
      "outputs": []
    },
    {
      "cell_type": "markdown",
      "metadata": {
        "id": "ceWEFdfJHgJ-"
      },
      "source": [
        "### stemming"
      ]
    },
    {
      "cell_type": "markdown",
      "metadata": {
        "id": "7Ay8u_ddIgMN"
      },
      "source": [
        "#### map vocab to stemmed vocab"
      ]
    },
    {
      "cell_type": "code",
      "metadata": {
        "colab": {
          "base_uri": "https://localhost:8080/"
        },
        "id": "KDwerYMBEolJ",
        "outputId": "87e8648c-28fb-412d-8a02-3608f7f86693"
      },
      "source": [
        "from scipy.sparse import csr_matrix\n",
        "from nltk import PorterStemmer\n",
        "stemmer = PorterStemmer()\n",
        "\n",
        "all_vocab = TF_vectorizer.get_feature_names()\n",
        "vocabs = np.array([stemmer.stem(i) for i in TF_vectorizer.vocabulary_.keys()])\n",
        "stemmed_vocab = np.array(list(set(vocabs)))\n",
        "print(\"all vocab count:\", len(vocabs))\n",
        "print(\"stemmed vocab count:\", len(stemmed_vocab))\n",
        "#vocab_stem_mapping = np.empty((vocabs.shape[0], stemmed_vocab.shape[0]), dtype=np.int)\n",
        "vocab_stem_mapping = np.empty((stemmed_vocab.shape[0]), dtype=np.object)\n",
        "for i in range(len(stemmed_vocab)):\n",
        "  #stem_mapping = (vocabs == stemmed_vocab[i])\n",
        "  #vocab_stem_mapping[:, i] = stem_mapping\n",
        "  stem_mapping = np.where(vocabs == stemmed_vocab[i])[0]\n",
        "  vocab_stem_mapping[i] = stem_mapping\n",
        "  if(i%1000 == 0):\n",
        "    print(i, end=\" \")"
      ],
      "execution_count": null,
      "outputs": [
        {
          "output_type": "stream",
          "text": [
            "all vocab count: 20387\n",
            "stemmed vocab count: 12795\n",
            "0 1000 2000 3000 4000 5000 6000 7000 8000 9000 10000 11000 12000 "
          ],
          "name": "stdout"
        }
      ]
    },
    {
      "cell_type": "markdown",
      "metadata": {
        "id": "S3K3PhJRHyrh"
      },
      "source": [
        "how to use:"
      ]
    },
    {
      "cell_type": "code",
      "metadata": {
        "colab": {
          "base_uri": "https://localhost:8080/",
          "height": 263
        },
        "id": "rDCiBfumHJq8",
        "outputId": "26152065-bccf-45ce-860d-068de50e533d"
      },
      "source": [
        "index = 1\n",
        "# select column for one stemmed vocab\n",
        "print(\"index of original vocab:\\n\", vocab_stem_mapping[index])\n",
        "print(\"original vocab:\\n\", all_vocab[vocab_stem_mapping[index]])\n",
        "print(\"vocab after stemming:\\n\", stemmed_vocab[index])\n",
        "#del all_vocab, vocabs, stemmed_vocab"
      ],
      "execution_count": null,
      "outputs": [
        {
          "output_type": "stream",
          "text": [
            "index of original vocab:\n",
            " [16408]\n"
          ],
          "name": "stdout"
        },
        {
          "output_type": "error",
          "ename": "TypeError",
          "evalue": "ignored",
          "traceback": [
            "\u001b[0;31m---------------------------------------------------------------------------\u001b[0m",
            "\u001b[0;31mTypeError\u001b[0m                                 Traceback (most recent call last)",
            "\u001b[0;32m<ipython-input-22-0cfcf3584d01>\u001b[0m in \u001b[0;36m<module>\u001b[0;34m()\u001b[0m\n\u001b[1;32m      2\u001b[0m \u001b[0;31m# select column for one stemmed vocab\u001b[0m\u001b[0;34m\u001b[0m\u001b[0;34m\u001b[0m\u001b[0;34m\u001b[0m\u001b[0m\n\u001b[1;32m      3\u001b[0m \u001b[0mprint\u001b[0m\u001b[0;34m(\u001b[0m\u001b[0;34m\"index of original vocab:\\n\"\u001b[0m\u001b[0;34m,\u001b[0m \u001b[0mvocab_stem_mapping\u001b[0m\u001b[0;34m[\u001b[0m\u001b[0mindex\u001b[0m\u001b[0;34m]\u001b[0m\u001b[0;34m)\u001b[0m\u001b[0;34m\u001b[0m\u001b[0;34m\u001b[0m\u001b[0m\n\u001b[0;32m----> 4\u001b[0;31m \u001b[0mprint\u001b[0m\u001b[0;34m(\u001b[0m\u001b[0;34m\"original vocab:\\n\"\u001b[0m\u001b[0;34m,\u001b[0m \u001b[0mall_vocab\u001b[0m\u001b[0;34m[\u001b[0m\u001b[0mvocab_stem_mapping\u001b[0m\u001b[0;34m[\u001b[0m\u001b[0mindex\u001b[0m\u001b[0;34m]\u001b[0m\u001b[0;34m]\u001b[0m\u001b[0;34m)\u001b[0m\u001b[0;34m\u001b[0m\u001b[0;34m\u001b[0m\u001b[0m\n\u001b[0m\u001b[1;32m      5\u001b[0m \u001b[0mprint\u001b[0m\u001b[0;34m(\u001b[0m\u001b[0;34m\"vocab after stemming:\\n\"\u001b[0m\u001b[0;34m,\u001b[0m \u001b[0mstemmed_vocab\u001b[0m\u001b[0;34m[\u001b[0m\u001b[0mindex\u001b[0m\u001b[0;34m]\u001b[0m\u001b[0;34m)\u001b[0m\u001b[0;34m\u001b[0m\u001b[0;34m\u001b[0m\u001b[0m\n\u001b[1;32m      6\u001b[0m \u001b[0;31m#del all_vocab, vocabs, stemmed_vocab\u001b[0m\u001b[0;34m\u001b[0m\u001b[0;34m\u001b[0m\u001b[0;34m\u001b[0m\u001b[0m\n",
            "\u001b[0;31mTypeError\u001b[0m: only integer scalar arrays can be converted to a scalar index"
          ]
        }
      ]
    },
    {
      "cell_type": "code",
      "metadata": {
        "id": "esQmcSYmhyjr"
      },
      "source": [
        "#col = 100\n",
        "# select column for one stemmed vocab\n",
        "#print(\"index of original vocab:\\n\", np.where(vocab_stem_mapping[:,col]==True))\n",
        "#print(\"original vocab:\\n\", all_vocab[np.where(vocab_stem_mapping[:,col]==True)])\n",
        "#print(\"vocab after stemming:\\n\", stemmed_vocab[col])\n",
        "#del all_vocab, vocabs, stemmed_vocab"
      ],
      "execution_count": null,
      "outputs": []
    },
    {
      "cell_type": "markdown",
      "metadata": {
        "id": "RIyNz9SxIdyy"
      },
      "source": [
        "#### map TF array to stemmed TF array"
      ]
    },
    {
      "cell_type": "code",
      "metadata": {
        "id": "b69JUVErIYV6"
      },
      "source": [
        "#train_stemmed_shape = (train_tf_vec.shape[0], vocab_stem_mapping.shape[1])\n",
        "#test_stemmed_shape = (test_tf_vec.shape[0], vocab_stem_mapping.shape[1])\n",
        "#print(\"old train shape\", train_tf_vec.shape)\n",
        "#print(\"old test shape\", test_tf_vec.shape)\n",
        "#print(\"new train shape\", train_stemmed_shape)\n",
        "#print(\"new test shape\", test_stemmed_shape)\n",
        "#print()\n",
        "\n",
        "#print(\"new train  \\t = old train \\t\\tx \\tvocab_stem_mapping\")\n",
        "#print(train_stemmed_shape, \"=\", train_tf_vec.shape, \"\\tx\\t\", vocab_stem_mapping.shape)\n",
        "\n",
        "#train_stemmed_TF = csr_matrix((train_tf_vec.shape[0], vocab_stem_mapping.shape[1]))\n",
        "#train_stemmed_TF.shape\n",
        "#train_stemmed_TF = train_tf_vec.dot(vocab_stem_mapping.astype('int'))"
      ],
      "execution_count": null,
      "outputs": []
    },
    {
      "cell_type": "markdown",
      "metadata": {
        "id": "JBG3JKoe1FoM"
      },
      "source": [
        "這個東東要跑一個小時...\n",
        "\n",
        "所以還是用save load好ㄌ"
      ]
    },
    {
      "cell_type": "code",
      "metadata": {
        "colab": {
          "base_uri": "https://localhost:8080/"
        },
        "id": "IDpi4ec0s9A3",
        "outputId": "392cfa1d-761f-4331-8af5-bbc6121764cb"
      },
      "source": [
        "# training\n",
        "print(vocab_stem_mapping.shape[0])\n",
        "train_stemmed_TF = csr_matrix((train_tf_vec.shape[0], vocab_stem_mapping.shape[0]))\n",
        "test_stemmed_TF = csr_matrix((test_tf_vec.shape[0], vocab_stem_mapping.shape[0]))\n",
        "\n",
        "train_stemmed_TF = train_stemmed_TF.tolil()\n",
        "test_stemmed_TF = test_stemmed_TF.tolil()\n",
        "for i in range(len(stemmed_vocab)):\n",
        "  #for j in vocab_stem_mapping[i]:\n",
        "  #  print(j)\n",
        "  #  train_stemmed_TF[:, i] = np.add(train_stemmed_TF[:, i], train_tf_vec[:, j])\n",
        "  train_stemmed_TF[:, i] = train_tf_vec[:, vocab_stem_mapping[i]].sum(axis=1)\n",
        "  test_stemmed_TF[:, i] = test_tf_vec[:, vocab_stem_mapping[i]].sum(axis=1)\n",
        "  if(i%200 == 0):\n",
        "    print(i, end='/{:d}\\t'.format(len(stemmed_vocab)))\n",
        "train_stemmed_TF = train_stemmed_TF.tocsr()\n",
        "test_stemmed_TF = test_stemmed_TF.tocsr()"
      ],
      "execution_count": null,
      "outputs": [
        {
          "output_type": "stream",
          "text": [
            "12795\n",
            "0/12795\t200/12795\t400/12795\t600/12795\t800/12795\t1000/12795\t1200/12795\t"
          ],
          "name": "stdout"
        }
      ]
    },
    {
      "cell_type": "code",
      "metadata": {
        "id": "ZLEywP7_1Rgj"
      },
      "source": [
        "np.save(Folder_Path+'train_stem_TF.npy', train_stemmed_TF)\n",
        "np.save(Folder_Path+'test_stem_TF.npy', test_stemmed_TF)"
      ],
      "execution_count": null,
      "outputs": []
    },
    {
      "cell_type": "code",
      "metadata": {
        "id": "bQWPii7itp7e"
      },
      "source": [
        "train_x = np.load((Folder_Path + '/train_stem_TF.npy'), allow_pickle=True).item()\n",
        "test_x = np.load((Folder_Path + '/test_stem_TF.npy'), allow_pickle=True).item()"
      ],
      "execution_count": null,
      "outputs": []
    },
    {
      "cell_type": "code",
      "metadata": {
        "id": "RwHTX_ZDtp7e"
      },
      "source": [
        ""
      ],
      "execution_count": null,
      "outputs": []
    },
    {
      "cell_type": "code",
      "metadata": {
        "id": "yWqXuaM_RcJO"
      },
      "source": [
        "all_vocab = np.array(TF_vectorizer.get_feature_names())\n",
        "np.save('/content/drive/MyDrive/2020TM/train_TF.npy', train_tf_vec)\n",
        "np.save('/content/drive/MyDrive/2020TM/test_TF.npy', test_tf_vec)\n",
        "np.save('/content/drive/MyDrive/2020TM/all_vocab.npy', all_vocab)"
      ],
      "execution_count": null,
      "outputs": []
    },
    {
      "cell_type": "code",
      "metadata": {
        "colab": {
          "base_uri": "https://localhost:8080/"
        },
        "id": "SXsJeehZXTKD",
        "outputId": "cef2c525-8931-4fc0-d4c9-2a339017bfb8"
      },
      "source": [
        "from scipy.sparse import csr_matrix\n",
        "from nltk import PorterStemmer\n",
        "stemmer = PorterStemmer()\n",
        "\n",
        "all_vocab = np.array(TF_vectorizer.get_feature_names())\n",
        "vocabs = np.array([stemmer.stem(i) for i in all_vocab])\n",
        "stemmed_vocab = np.array(list(set(vocabs)))\n",
        "vocab_stem_mapping = np.empty((stemmed_vocab.shape[0]), dtype=np.object)\n",
        "for i in range(len(stemmed_vocab)):\n",
        "  #stem_mapping = (vocabs == stemmed_vocab[i])\n",
        "  #vocab_stem_mapping[:, i] = stem_mapping\n",
        "  stem_mapping = np.where(vocabs == stemmed_vocab[i])[0]\n",
        "  vocab_stem_mapping[i] = stem_mapping\n",
        "  if(i%1000 == 0):\n",
        "    print(i, end=\" \")"
      ],
      "execution_count": null,
      "outputs": [
        {
          "output_type": "stream",
          "text": [
            "0 1000 2000 3000 4000 5000 6000 7000 8000 9000 10000 11000 12000 "
          ],
          "name": "stdout"
        }
      ]
    },
    {
      "cell_type": "code",
      "metadata": {
        "colab": {
          "base_uri": "https://localhost:8080/"
        },
        "id": "7WeirkmK1AcH",
        "outputId": "ee867a6d-1db7-42d9-d80b-4457e8b127c2"
      },
      "source": [
        "index = 200\n",
        "# select column for one stemmed vocab\n",
        "print(\"index of original vocab:\\n\", vocab_stem_mapping[index])\n",
        "print(\"original vocab:\\n\", all_vocab[vocab_stem_mapping[index]])\n",
        "print(\"vocab after stemming:\\n\", stemmed_vocab[index])\n",
        "#del all_vocab, vocabs, stemmed_vocab"
      ],
      "execution_count": null,
      "outputs": [
        {
          "output_type": "stream",
          "text": [
            "index of original vocab:\n",
            " [16783 16784]\n",
            "original vocab:\n",
            " ['smartphone' 'smartphones']\n",
            "vocab after stemming:\n",
            " smartphon\n"
          ],
          "name": "stdout"
        }
      ]
    },
    {
      "cell_type": "code",
      "metadata": {
        "colab": {
          "base_uri": "https://localhost:8080/"
        },
        "id": "Wccil9vMkcdi",
        "outputId": "5e3c69e1-f1d2-4fd5-dd51-abcb6bea7085"
      },
      "source": [
        "# training\n",
        "print(vocab_stem_mapping.shape[0])\n",
        "train_stemmed_TF = csr_matrix((train_tf_vec.shape[0], vocab_stem_mapping.shape[0]))\n",
        "test_stemmed_TF = csr_matrix((test_tf_vec.shape[0], vocab_stem_mapping.shape[0]))\n",
        "\n",
        "train_stemmed_TF = train_stemmed_TF.tolil()\n",
        "test_stemmed_TF = test_stemmed_TF.tolil()\n",
        "for i in range(len(stemmed_vocab)):\n",
        "  #for j in vocab_stem_mapping[i]:\n",
        "  #  print(j)\n",
        "  #  train_stemmed_TF[:, i] = np.add(train_stemmed_TF[:, i], train_tf_vec[:, j])\n",
        "  train_stemmed_TF[:, i] = train_tf_vec[:, vocab_stem_mapping[i]].sum(axis=1)\n",
        "  test_stemmed_TF[:, i] = test_tf_vec[:, vocab_stem_mapping[i]].sum(axis=1)\n",
        "  if(i%200 == 0):\n",
        "    print(\"{:d}/{:d}\".format(i, len(stemmed_vocab)), end=\"\\t\")\n",
        "train_stemmed_TF = train_stemmed_TF.tocsr()\n",
        "test_stemmed_TF = test_stemmed_TF.tocsr()\n",
        "\n",
        "np.save('/content/drive/MyDrive/2020TM/train_stem_TF.npy', train_stemmed_TF)\n",
        "np.save('/content/drive/MyDrive/2020TM/test_stem_TF.npy', test_stemmed_TF)\n",
        "np.save('/content/drive/MyDrive/2020TM/stemmed_vocab.npy', stemmed_vocab)"
      ],
      "execution_count": null,
      "outputs": [
        {
          "output_type": "stream",
          "text": [
            "12795\n",
            "0/12795\t200/12795\t400/12795\t600/12795\t800/12795\t1000/12795\t1200/12795\t1400/12795\t1600/12795\t1800/12795\t2000/12795\t2200/12795\t2400/12795\t2600/12795\t2800/12795\t3000/12795\t3200/12795\t3400/12795\t3600/12795\t3800/12795\t4000/12795\t4200/12795\t4400/12795\t4600/12795\t4800/12795\t5000/12795\t5200/12795\t5400/12795\t5600/12795\t5800/12795\t6000/12795\t6200/12795\t6400/12795\t6600/12795\t6800/12795\t7000/12795\t7200/12795\t7400/12795\t7600/12795\t7800/12795\t8000/12795\t8200/12795\t8400/12795\t8600/12795\t8800/12795\t9000/12795\t9200/12795\t9400/12795\t9600/12795\t9800/12795\t10000/12795\t10200/12795\t10400/12795\t10600/12795\t10800/12795\t11000/12795\t11200/12795\t11400/12795\t11600/12795\t11800/12795\t12000/12795\t12200/12795\t12400/12795\t12600/12795\t"
          ],
          "name": "stdout"
        }
      ]
    },
    {
      "cell_type": "code",
      "metadata": {
        "colab": {
          "base_uri": "https://localhost:8080/"
        },
        "id": "I1HUmJsNSIHu",
        "outputId": "039c7ff0-2b56-415d-bd36-9dae882f0346"
      },
      "source": [
        "TF_train_all = np.load('/content/drive/MyDrive/2020TM/train_TF.npy', allow_pickle=True).item()\n",
        "TF_test_all = np.load('/content/drive/MyDrive/2020TM/test_TF.npy', allow_pickle=True).item()\n",
        "all_vocab = np.load('/content/drive/MyDrive/2020TM/all_vocab.npy', allow_pickle=True)\n",
        "all_vocab"
      ],
      "execution_count": null,
      "outputs": [
        {
          "output_type": "execute_result",
          "data": {
            "text/plain": [
              "array(['00', '000', '007', ..., 'zuckerberg', 'zumba', 'zurich'],\n",
              "      dtype='<U24')"
            ]
          },
          "metadata": {
            "tags": []
          },
          "execution_count": 17
        }
      ]
    },
    {
      "cell_type": "code",
      "metadata": {
        "id": "8nirUWo21dbK",
        "colab": {
          "base_uri": "https://localhost:8080/"
        },
        "outputId": "e5a9ad3f-8dfc-4233-bc03-0082cc9370df"
      },
      "source": [
        "TF_train_x = np.load('/content/drive/MyDrive/2020TM/train_stem_TF.npy', allow_pickle=True).item()\n",
        "TF_test_x = np.load('/content/drive/MyDrive/2020TM/test_stem_TF.npy', allow_pickle=True).item()\n",
        "stemmed_vocab = np.load('/content/drive/MyDrive/2020TM/stemmed_vocab.npy', allow_pickle=True)\n",
        "stemmed_vocab"
      ],
      "execution_count": null,
      "outputs": [
        {
          "output_type": "execute_result",
          "data": {
            "text/plain": [
              "array(['sesam', 'introvert', 'unborn', ..., 'condom', 'territori',\n",
              "       'sniper'], dtype='<U24')"
            ]
          },
          "metadata": {
            "tags": []
          },
          "execution_count": 18
        }
      ]
    },
    {
      "cell_type": "code",
      "metadata": {
        "id": "ZA_3j6-8_jdN",
        "colab": {
          "base_uri": "https://localhost:8080/"
        },
        "outputId": "ff8cb089-848d-4cce-963e-90a33e4cd270"
      },
      "source": [
        "TF_train_x.shape"
      ],
      "execution_count": null,
      "outputs": [
        {
          "output_type": "execute_result",
          "data": {
            "text/plain": [
              "(155291, 12795)"
            ]
          },
          "metadata": {
            "tags": []
          },
          "execution_count": 19
        }
      ]
    },
    {
      "cell_type": "markdown",
      "metadata": {
        "id": "jHLTQMFUHpP0"
      },
      "source": [
        "### calculate tfidf vector"
      ]
    },
    {
      "cell_type": "code",
      "metadata": {
        "id": "xZ3bk6v5HuFZ"
      },
      "source": [
        "from sklearn.feature_extraction.text import TfidfTransformer\n",
        "\n",
        "transformer = TfidfTransformer()\n",
        "x_train = transformer.fit_transform(TF_train_x)\n",
        "x_test = transformer.transform(TF_test_x)"
      ],
      "execution_count": null,
      "outputs": []
    },
    {
      "cell_type": "markdown",
      "metadata": {
        "id": "yG5pqE-l_waL"
      },
      "source": [
        "## further merge category to fewer topic"
      ]
    },
    {
      "cell_type": "code",
      "metadata": {
        "id": "uhcF_MfyaSS1"
      },
      "source": [
        "training['category'] = training.category.map(lambda x: \"HOME & LIVING\" if x == \"HOME & LIVING\" or x == \"STYLE & BEAUTY\" else x)\n",
        "training['category'] = training.category.map(lambda x: \"ENVIRONMENT\" if x == \"ENVIRONMENT\" or x == \"GREEN\" else x)\n",
        "training['category'] = training.category.map(lambda x: \"HEALTHY LIVING\" if x == \"HEALTHY LIVING\" or x == \"WELLNESS\" else x)\n",
        "training['category'] = training.category.map(lambda x: \"THE WORLDPOST\" if x == \"THE WORLDPOST\" or x == \"WORLD NEWS\" else x)\n",
        "training['category'] = training.category.map(lambda x: \"FIFTY\" if x == \"FIFTY\" or x == \"WEDDING & DIVORCE\" else x)\n",
        "training['category'] = training.category.map(lambda x: \"IMPACT\" if x == \"IMPACT\" or x == \"WOMEN\" else x)\n",
        "training['category'] = training.category.map(lambda x: \"FIFTY\" if x == \"FIFTY\" or x == \"GOOD NEWS\" else x)\n",
        "training['category'] = training.category.map(lambda x: \"CRIME\" if x == \"CRIME\" or x == \"WEIRD NEWS\" else x)\n",
        "training['category'] = training.category.map(lambda x: \"HOME & LIVING\" if x == \"HOME & LIVING\" or x == \"TRAVEL\" else x)\n",
        "training['category'] = training.category.map(lambda x: \"HOME & LIVING\" if x == \"FOOD\" or x == \"HOME & LIVING\" else x)\n",
        "training['category'] = training.category.map(lambda x: \"RACIAL & LGBTQ ISSUES\" if x == \"RACIAL & LGBTQ ISSUES\" or x == \"RELIGION\" else x)\n",
        "training['category'] = training.category.map(lambda x: \"MEDIA\" if x == \"MEDIA\" or x == \"IMPACT\" else x)\n",
        "training['category'] = training.category.map(lambda x: \"CULTURE\" if x == \"CULTURE\" or x == \"EDUCATION\" else x)"
      ],
      "execution_count": null,
      "outputs": []
    },
    {
      "cell_type": "code",
      "metadata": {
        "colab": {
          "base_uri": "https://localhost:8080/"
        },
        "id": "T5HGVwdkqWOd",
        "outputId": "42fc25e2-05f5-47db-9e10-fdd0089429a7"
      },
      "source": [
        "categories = training.groupby('category')\n",
        "print('total categories: {}'.format(categories.ngroups))\n",
        "print(categories.size())"
      ],
      "execution_count": null,
      "outputs": [
        {
          "output_type": "stream",
          "text": [
            "total categories: 16\n",
            "category\n",
            "BUSINESS                  6459\n",
            "COMEDY                    2723\n",
            "CRIME                     3448\n",
            "CULTURE                   4590\n",
            "ENTERTAINMENT             8446\n",
            "ENVIRONMENT               3215\n",
            "FIFTY                     8658\n",
            "HEALTHY LIVING           22066\n",
            "HOME & LIVING            28088\n",
            "MEDIA                     7426\n",
            "PARENTING                11264\n",
            "POLITICS                 25200\n",
            "RACIAL & LGBTQ ISSUES    10995\n",
            "SCIENCE & TECHNOLOGY      3235\n",
            "SPORTS                    2984\n",
            "THE WORLDPOST             6494\n",
            "dtype: int64\n"
          ],
          "name": "stdout"
        }
      ]
    },
    {
      "cell_type": "code",
      "metadata": {
        "colab": {
          "base_uri": "https://localhost:8080/",
          "height": 264
        },
        "id": "5ZdlLQpNqH7W",
        "outputId": "d67e1a59-5389-4bc8-f54d-bbeb8d22c973"
      },
      "source": [
        "from collections import Counter\n",
        "from matplotlib import pyplot\n",
        "\n",
        "counter = Counter(training['category'])\n",
        "# plot the distribution\n",
        "pyplot.bar(counter.keys(), counter.values())\n",
        "pyplot.show()"
      ],
      "execution_count": null,
      "outputs": [
        {
          "output_type": "display_data",
          "data": {
            "image/png": "[encoded data removed]",
            "text/plain": [
              "<Figure size 432x288 with 1 Axes>"
            ]
          },
          "metadata": {
            "tags": [],
            "needs_background": "light"
          }
        }
      ]
    },
    {
      "cell_type": "markdown",
      "metadata": {
        "id": "QwF_R9dCQrgE"
      },
      "source": [
        "only SVM"
      ]
    },
    {
      "cell_type": "code",
      "metadata": {
        "id": "FFvrhveHQq6s"
      },
      "source": [
        "from sklearn.svm import LinearSVC\n",
        "from imblearn.over_sampling import SMOTE\n",
        "oversample = SMOTE()\n",
        "\n",
        "X, y = oversample.fit_sample(train_SVD, train_y)\n",
        "\n",
        "counter = Counter(y)\n",
        "# plot the distribution\n",
        "pyplot.bar(counter.keys(), counter.values())\n",
        "pyplot.show()\n",
        "\n",
        "SVM_model_linear = LinearSVC(C=1.0)\n",
        "SVM_model_linear.fit(X, y)"
      ],
      "execution_count": null,
      "outputs": []
    },
    {
      "cell_type": "markdown",
      "metadata": {
        "id": "wOYYnDdIvRn7"
      },
      "source": [
        "##SVD + SVM Linear"
      ]
    },
    {
      "cell_type": "code",
      "metadata": {
        "id": "FDODBHkjsFnk"
      },
      "source": [
        "import os\n",
        "import numpy as np\n",
        "import csv\n",
        "from sklearn.feature_extraction.text import TfidfVectorizer\n",
        "from sklearn.metrics.pairwise import cosine_similarity\n",
        "from sklearn.svm import SVC\n",
        "\n",
        "\n"
      ],
      "execution_count": null,
      "outputs": []
    },
    {
      "cell_type": "code",
      "metadata": {
        "colab": {
          "base_uri": "https://localhost:8080/"
        },
        "id": "bUPBXr9jraaO",
        "outputId": "431a86ac-51fa-4d71-a410-9de4a2dc66ba"
      },
      "source": [
        "from sklearn import preprocessing\n",
        "le = preprocessing.LabelEncoder()\n",
        "\n",
        "le.fit(training['category'])\n",
        "y_train = le.transform(training['category'])\n",
        "print(y_train)"
      ],
      "execution_count": null,
      "outputs": [
        {
          "output_type": "stream",
          "text": [
            "[ 2  4  4 ... 14 14 14]\n"
          ],
          "name": "stdout"
        }
      ]
    },
    {
      "cell_type": "code",
      "metadata": {
        "colab": {
          "base_uri": "https://localhost:8080/"
        },
        "id": "dB2dSnyHSi1r",
        "outputId": "efe44324-58ed-4713-924b-9e98da133d29"
      },
      "source": [
        "y_train = training['category']\n",
        "print(x_train.shape)\n",
        "print(x_test.shape)\n",
        "print(y_train.shape)"
      ],
      "execution_count": null,
      "outputs": [
        {
          "output_type": "stream",
          "text": [
            "(155291, 12795)\n",
            "(139480, 12795)\n",
            "(155291,)\n"
          ],
          "name": "stdout"
        }
      ]
    },
    {
      "cell_type": "code",
      "metadata": {
        "id": "8C2GLUM7wnjV",
        "colab": {
          "base_uri": "https://localhost:8080/"
        },
        "outputId": "042cc12b-74d0-48ac-cd28-75140763f46c"
      },
      "source": [
        "from sklearn.model_selection import train_test_split\n",
        "train_x, valid_x, train_y, valid_y = train_test_split(TF_train_x, y_train, test_size=0.1, random_state=42)\n",
        "print(train_x.shape)\n",
        "print(train_y.shape)\n",
        "print(valid_x.shape)\n",
        "print(valid_y.shape)"
      ],
      "execution_count": null,
      "outputs": [
        {
          "output_type": "stream",
          "text": [
            "(139761, 12795)\n",
            "(139761,)\n",
            "(15530, 12795)\n",
            "(15530,)\n"
          ],
          "name": "stdout"
        }
      ]
    },
    {
      "cell_type": "code",
      "metadata": {
        "id": "Im3XkS9cvZ0n"
      },
      "source": [
        "#SVM_model_linear = LinearSVC(C=1.0)\n",
        "#SVM_model_linear.fit(train_x, train_y)"
      ],
      "execution_count": null,
      "outputs": []
    },
    {
      "cell_type": "markdown",
      "metadata": {
        "id": "LgJuk8W_vvST"
      },
      "source": [
        "#### SVD fit"
      ]
    },
    {
      "cell_type": "code",
      "metadata": {
        "id": "YcVc1fKCWL7K"
      },
      "source": [
        "from sklearn.decomposition import TruncatedSVD\n",
        "svd_model = TruncatedSVD(n_components = 30)\n",
        "train_SVD = svd_model.fit_transform(train_x)\n",
        "valid_SVD = svd_model.transform(valid_x)"
      ],
      "execution_count": null,
      "outputs": []
    },
    {
      "cell_type": "code",
      "metadata": {
        "id": "XwEXqSVM-e9T",
        "colab": {
          "base_uri": "https://localhost:8080/"
        },
        "outputId": "2438d5d4-8e59-401a-c58d-abaa3495fdf6"
      },
      "source": [
        "print(train_SVD.shape)\n",
        "print(valid_SVD.shape)"
      ],
      "execution_count": null,
      "outputs": [
        {
          "output_type": "stream",
          "text": [
            "(139761, 30)\n",
            "(15530, 30)\n"
          ],
          "name": "stdout"
        }
      ]
    },
    {
      "cell_type": "markdown",
      "metadata": {
        "id": "_aq6ixMC3avh"
      },
      "source": [
        "每個類別選出10個最有影響力單字"
      ]
    },
    {
      "cell_type": "code",
      "metadata": {
        "id": "cFjTFZX33aD_"
      },
      "source": [
        "def print_topics(model, vectorizer, n_top_words):\n",
        "  words = stemmed_vocab\n",
        "  for topic_index, topic in enumerate(model.components_):\n",
        "    print(\"\\nTopic #%d:\" % topic_index)\n",
        "    print(\" \".join([words[i] for i in topic.argsort()[:-n_top_words - 1:-1]]))\n",
        "    #print(topic.argsort()[:-n_top_words - 1:-1])"
      ],
      "execution_count": null,
      "outputs": []
    },
    {
      "cell_type": "code",
      "metadata": {
        "id": "LX8j84JN2U4Q",
        "colab": {
          "base_uri": "https://localhost:8080/"
        },
        "outputId": "6e7acb91-8f49-4d70-fdfd-71a1f8bdddd6"
      },
      "source": [
        "print_topics(svd_model, TF_vectorizer, 10)"
      ],
      "execution_count": null,
      "outputs": [
        {
          "output_type": "stream",
          "text": [
            "\n",
            "Topic #0:\n",
            "paycheck academ involv eliot webster bridezilla malawi tequila meant jew\n",
            "\n",
            "Topic #1:\n",
            "bridezilla measur spaghetti precari aisl mango pelosi do tile raci\n",
            "\n",
            "Topic #2:\n",
            "paycheck academ chill paus scarc rollback reddit allegi tempt ty\n",
            "\n",
            "Topic #3:\n",
            "academ paus involv infus vibrat leia ahh rapper bridezilla awesom\n",
            "\n",
            "Topic #4:\n",
            "eliot jew academ rollback bridezilla mcilroy prize scapegoat ounc paus\n",
            "\n",
            "Topic #5:\n",
            "eliot paycheck involv menswear chill knive nomad newsbrief boe bridezilla\n",
            "\n",
            "Topic #6:\n",
            "involv jew bridezilla rollback popcorn rut sunni unkind measur prize\n",
            "\n",
            "Topic #7:\n",
            "webster bridezilla expans academ snitch measur infus jew mcilroy paycheck\n",
            "\n",
            "Topic #8:\n",
            "malawi scapegoat meant conjur oblig paycheck bridezilla academ measur wake\n",
            "\n",
            "Topic #9:\n",
            "tequila malawi webster scapegoat jew involv edinburgh woodi eliot motor\n"
          ],
          "name": "stdout"
        }
      ]
    },
    {
      "cell_type": "markdown",
      "metadata": {
        "id": "9DrgqKrQyAQ6"
      },
      "source": [
        "### f1 score - SVD\n",
        "\n",
        "use subtrain and valid to calculate f1 score"
      ]
    },
    {
      "cell_type": "markdown",
      "metadata": {
        "id": "ROV8PEddqANY"
      },
      "source": [
        "SVD+SMV f1 score"
      ]
    },
    {
      "cell_type": "code",
      "metadata": {
        "colab": {
          "base_uri": "https://localhost:8080/",
          "height": 864
        },
        "id": "INNQYOpkp-ru",
        "outputId": "9b86a2ef-5c4d-4455-b2ac-0b740b7ac2f3"
      },
      "source": [
        "from sklearn.svm import LinearSVC\n",
        "from imblearn.over_sampling import SMOTE\n",
        "oversample = SMOTE()\n",
        "\n",
        "X, y = oversample.fit_sample(train_SVD, train_y)\n",
        "\n",
        "counter = Counter(y)\n",
        "# plot the distribution\n",
        "pyplot.bar(counter.keys(), counter.values())\n",
        "pyplot.show()\n",
        "\n",
        "SVM_model_linear = LinearSVC(C=1.0)\n",
        "SVM_model_linear.fit(X, y)"
      ],
      "execution_count": null,
      "outputs": [
        {
          "output_type": "stream",
          "text": [
            "/usr/local/lib/python3.6/dist-packages/sklearn/externals/six.py:31: FutureWarning: The module is deprecated in version 0.21 and will be removed in version 0.23 since we've dropped support for Python 2.7. Please rely on the official version of six (https://pypi.org/project/six/).\n",
            "  \"(https://pypi.org/project/six/).\", FutureWarning)\n",
            "/usr/local/lib/python3.6/dist-packages/sklearn/utils/deprecation.py:144: FutureWarning: The sklearn.neighbors.base module is  deprecated in version 0.22 and will be removed in version 0.24. The corresponding classes / functions should instead be imported from sklearn.neighbors. Anything that cannot be imported from sklearn.neighbors is now part of the private API.\n",
            "  warnings.warn(message, FutureWarning)\n",
            "/usr/local/lib/python3.6/dist-packages/sklearn/utils/deprecation.py:87: FutureWarning: Function safe_indexing is deprecated; safe_indexing is deprecated in version 0.22 and will be removed in version 0.24.\n",
            "  warnings.warn(msg, category=FutureWarning)\n",
            "/usr/local/lib/python3.6/dist-packages/sklearn/utils/deprecation.py:87: FutureWarning: Function safe_indexing is deprecated; safe_indexing is deprecated in version 0.22 and will be removed in version 0.24.\n",
            "  warnings.warn(msg, category=FutureWarning)\n",
            "/usr/local/lib/python3.6/dist-packages/sklearn/utils/deprecation.py:87: FutureWarning: Function safe_indexing is deprecated; safe_indexing is deprecated in version 0.22 and will be removed in version 0.24.\n",
            "  warnings.warn(msg, category=FutureWarning)\n",
            "/usr/local/lib/python3.6/dist-packages/sklearn/utils/deprecation.py:87: FutureWarning: Function safe_indexing is deprecated; safe_indexing is deprecated in version 0.22 and will be removed in version 0.24.\n",
            "  warnings.warn(msg, category=FutureWarning)\n",
            "/usr/local/lib/python3.6/dist-packages/sklearn/utils/deprecation.py:87: FutureWarning: Function safe_indexing is deprecated; safe_indexing is deprecated in version 0.22 and will be removed in version 0.24.\n",
            "  warnings.warn(msg, category=FutureWarning)\n",
            "/usr/local/lib/python3.6/dist-packages/sklearn/utils/deprecation.py:87: FutureWarning: Function safe_indexing is deprecated; safe_indexing is deprecated in version 0.22 and will be removed in version 0.24.\n",
            "  warnings.warn(msg, category=FutureWarning)\n",
            "/usr/local/lib/python3.6/dist-packages/sklearn/utils/deprecation.py:87: FutureWarning: Function safe_indexing is deprecated; safe_indexing is deprecated in version 0.22 and will be removed in version 0.24.\n",
            "  warnings.warn(msg, category=FutureWarning)\n",
            "/usr/local/lib/python3.6/dist-packages/sklearn/utils/deprecation.py:87: FutureWarning: Function safe_indexing is deprecated; safe_indexing is deprecated in version 0.22 and will be removed in version 0.24.\n",
            "  warnings.warn(msg, category=FutureWarning)\n",
            "/usr/local/lib/python3.6/dist-packages/sklearn/utils/deprecation.py:87: FutureWarning: Function safe_indexing is deprecated; safe_indexing is deprecated in version 0.22 and will be removed in version 0.24.\n",
            "  warnings.warn(msg, category=FutureWarning)\n",
            "/usr/local/lib/python3.6/dist-packages/sklearn/utils/deprecation.py:87: FutureWarning: Function safe_indexing is deprecated; safe_indexing is deprecated in version 0.22 and will be removed in version 0.24.\n",
            "  warnings.warn(msg, category=FutureWarning)\n",
            "/usr/local/lib/python3.6/dist-packages/sklearn/utils/deprecation.py:87: FutureWarning: Function safe_indexing is deprecated; safe_indexing is deprecated in version 0.22 and will be removed in version 0.24.\n",
            "  warnings.warn(msg, category=FutureWarning)\n",
            "/usr/local/lib/python3.6/dist-packages/sklearn/utils/deprecation.py:87: FutureWarning: Function safe_indexing is deprecated; safe_indexing is deprecated in version 0.22 and will be removed in version 0.24.\n",
            "  warnings.warn(msg, category=FutureWarning)\n",
            "/usr/local/lib/python3.6/dist-packages/sklearn/utils/deprecation.py:87: FutureWarning: Function safe_indexing is deprecated; safe_indexing is deprecated in version 0.22 and will be removed in version 0.24.\n",
            "  warnings.warn(msg, category=FutureWarning)\n",
            "/usr/local/lib/python3.6/dist-packages/sklearn/utils/deprecation.py:87: FutureWarning: Function safe_indexing is deprecated; safe_indexing is deprecated in version 0.22 and will be removed in version 0.24.\n",
            "  warnings.warn(msg, category=FutureWarning)\n",
            "/usr/local/lib/python3.6/dist-packages/sklearn/utils/deprecation.py:87: FutureWarning: Function safe_indexing is deprecated; safe_indexing is deprecated in version 0.22 and will be removed in version 0.24.\n",
            "  warnings.warn(msg, category=FutureWarning)\n"
          ],
          "name": "stderr"
        },
        {
          "output_type": "display_data",
          "data": {
            "image/png": "[encoded data removed]",
            "text/plain": [
              "<Figure size 432x288 with 1 Axes>"
            ]
          },
          "metadata": {
            "tags": [],
            "needs_background": "light"
          }
        }
      ]
    },
    {
      "cell_type": "code",
      "metadata": {
        "id": "7S_7Amtth59R",
        "colab": {
          "base_uri": "https://localhost:8080/"
        },
        "outputId": "72ff0c1d-7516-459f-de81-78ee06e441a2"
      },
      "source": [
        "from sklearn.metrics import classification_report\n",
        "\n",
        "valid_pred = SVM_model_linear.predict(valid_SVD)\n",
        "\n",
        "print(classification_report(valid_y, valid_pred))"
      ],
      "execution_count": null,
      "outputs": [
        {
          "output_type": "stream",
          "text": [
            "              precision    recall  f1-score   support\n",
            "\n",
            "           0       0.22      0.03      0.06       660\n",
            "           1       0.15      0.04      0.06       293\n",
            "           2       0.11      0.31      0.16       336\n",
            "           3       0.10      0.01      0.01       435\n",
            "           4       0.17      0.00      0.00       872\n",
            "           5       0.11      0.15      0.13       353\n",
            "           6       0.48      0.60      0.54       850\n",
            "           7       0.52      0.63      0.57      2218\n",
            "           8       0.61      0.69      0.65      2787\n",
            "           9       0.18      0.14      0.16       687\n",
            "          10       0.45      0.66      0.54      1134\n",
            "          11       0.71      0.60      0.65      2571\n",
            "          12       0.12      0.01      0.01      1082\n",
            "          13       0.09      0.11      0.10       313\n",
            "          14       0.07      0.12      0.09       301\n",
            "          15       0.16      0.43      0.24       638\n",
            "\n",
            "    accuracy                           0.44     15530\n",
            "   macro avg       0.27      0.28      0.25     15530\n",
            "weighted avg       0.42      0.44      0.41     15530\n",
            "\n"
          ],
          "name": "stdout"
        }
      ]
    },
    {
      "cell_type": "markdown",
      "metadata": {
        "id": "nsHL9_nGTcuc"
      },
      "source": [
        "## LDA"
      ]
    },
    {
      "cell_type": "code",
      "metadata": {
        "id": "dRHzur71kYl4"
      },
      "source": [
        "from sklearn.decomposition import LatentDirichletAllocation as LDA"
      ],
      "execution_count": null,
      "outputs": []
    },
    {
      "cell_type": "code",
      "metadata": {
        "colab": {
          "base_uri": "https://localhost:8080/"
        },
        "id": "wZh-A45QwQfs",
        "outputId": "7c92c0b2-b8b0-4a9e-8f94-3605a6fa29b8"
      },
      "source": [
        "from sklearn.model_selection import train_test_split\n",
        "train_x, valid_x, train_y, valid_y = train_test_split(x_train, y_train, test_size=0.1, random_state=42)\n",
        "print(x_train.shape)\n",
        "print(y_train.shape)\n",
        "print(valid_x.shape)\n",
        "print(valid_y.shape)"
      ],
      "execution_count": null,
      "outputs": [
        {
          "output_type": "stream",
          "text": [
            "(155291, 12795)\n",
            "(155291,)\n",
            "(15530, 12795)\n",
            "(15530,)\n"
          ],
          "name": "stdout"
        }
      ]
    },
    {
      "cell_type": "code",
      "metadata": {
        "id": "RBd03SF-kbP_"
      },
      "source": [
        "lda_model = LDA(n_components = 10)\n",
        "train_LDA = lda_model.fit_transform(train_x)\n",
        "valid_LDA = lda_model.transform(valid_x)"
      ],
      "execution_count": null,
      "outputs": []
    },
    {
      "cell_type": "code",
      "metadata": {
        "id": "oqfLp-Abhos5",
        "colab": {
          "base_uri": "https://localhost:8080/"
        },
        "outputId": "d5242a45-a30b-4e64-bc2b-ecb38196e91e"
      },
      "source": [
        "def print_topics(model, vectorizer, n_top_words):\n",
        "  words = stemmed_vocab\n",
        "  for topic_index, topic in enumerate(model.components_):\n",
        "    print(\"\\nTopic #%d:\" % topic_index)\n",
        "    print(\" \".join([words[i] for i in topic.argsort()[:-n_top_words - 1:-1]]))\n",
        "    #print(topic.argsort()[:-n_top_words - 1:-1])\n",
        "\n",
        "print_topics(lda_model, TF_vectorizer, 10)"
      ],
      "execution_count": null,
      "outputs": [
        {
          "output_type": "stream",
          "text": [
            "\n",
            "Topic #0:\n",
            "kill polic attack war year shoot peopl refuge say state\n",
            "\n",
            "Topic #1:\n",
            "trump donald presid clinton republican democrat say elect gop hillari\n",
            "\n",
            "Topic #2:\n",
            "food eat make travel recip photo day best way summer\n",
            "\n",
            "Topic #3:\n",
            "life parent time thing make love way kid peopl feel\n",
            "\n",
            "Topic #4:\n",
            "new award year appl film oscar puerto ebay week colleg\n",
            "\n",
            "Topic #5:\n",
            "new citi christma year day photo holiday san world music\n",
            "\n",
            "Topic #6:\n",
            "photo wed style check fashion dress look twitter facebook week\n",
            "\n",
            "Topic #7:\n",
            "year new video gay star game man black say film\n",
            "\n",
            "Topic #8:\n",
            "news huffpost rise trump hill jenner morn bush newsbrief welcom\n",
            "\n",
            "Topic #9:\n",
            "health studi new state peopl american care research tax risk\n"
          ],
          "name": "stdout"
        }
      ]
    },
    {
      "cell_type": "markdown",
      "metadata": {
        "id": "h-ea_3rl4M_X"
      },
      "source": [
        "## Predict category"
      ]
    },
    {
      "cell_type": "markdown",
      "metadata": {
        "id": "3WFQf3kYpVzU"
      },
      "source": [
        "###inbalance category\n",
        "\n",
        "resample data"
      ]
    },
    {
      "cell_type": "code",
      "metadata": {
        "id": "4E2BY8L9qwQ9",
        "colab": {
          "base_uri": "https://localhost:8080/",
          "height": 281
        },
        "outputId": "0a32b454-0fc2-4cf7-92e1-b5628cf7c23c"
      },
      "source": [
        "from collections import Counter\n",
        "from matplotlib import pyplot\n",
        "\n",
        "print(\"imbalanced category:\")\n",
        "counter = Counter(train_y)\n",
        "\n",
        "# plot the distribution\n",
        "pyplot.bar(counter.keys(), counter.values())\n",
        "pyplot.show()"
      ],
      "execution_count": null,
      "outputs": [
        {
          "output_type": "stream",
          "text": [
            "imbalanced category:\n"
          ],
          "name": "stdout"
        },
        {
          "output_type": "display_data",
          "data": {
            "image/png": "[encoded data removed]",
            "text/plain": [
              "<Figure size 432x288 with 1 Axes>"
            ]
          },
          "metadata": {
            "tags": [],
            "needs_background": "light"
          }
        }
      ]
    },
    {
      "cell_type": "code",
      "metadata": {
        "id": "lAEtahrGpUQN",
        "colab": {
          "base_uri": "https://localhost:8080/"
        },
        "outputId": "2c24c976-4fe9-4e6d-91ea-9b7ac302edc5"
      },
      "source": [
        "from imblearn.over_sampling import SMOTE\n",
        "\n",
        "oversample = SMOTE()\n",
        "X, y = oversample.fit_sample(train_LDA, train_y)"
      ],
      "execution_count": null,
      "outputs": [
        {
          "output_type": "stream",
          "text": [
            "/usr/local/lib/python3.6/dist-packages/sklearn/externals/six.py:31: FutureWarning: The module is deprecated in version 0.21 and will be removed in version 0.23 since we've dropped support for Python 2.7. Please rely on the official version of six (https://pypi.org/project/six/).\n",
            "  \"(https://pypi.org/project/six/).\", FutureWarning)\n",
            "/usr/local/lib/python3.6/dist-packages/sklearn/utils/deprecation.py:144: FutureWarning: The sklearn.neighbors.base module is  deprecated in version 0.22 and will be removed in version 0.24. The corresponding classes / functions should instead be imported from sklearn.neighbors. Anything that cannot be imported from sklearn.neighbors is now part of the private API.\n",
            "  warnings.warn(message, FutureWarning)\n",
            "/usr/local/lib/python3.6/dist-packages/sklearn/utils/deprecation.py:87: FutureWarning: Function safe_indexing is deprecated; safe_indexing is deprecated in version 0.22 and will be removed in version 0.24.\n",
            "  warnings.warn(msg, category=FutureWarning)\n",
            "/usr/local/lib/python3.6/dist-packages/sklearn/utils/deprecation.py:87: FutureWarning: Function safe_indexing is deprecated; safe_indexing is deprecated in version 0.22 and will be removed in version 0.24.\n",
            "  warnings.warn(msg, category=FutureWarning)\n",
            "/usr/local/lib/python3.6/dist-packages/sklearn/utils/deprecation.py:87: FutureWarning: Function safe_indexing is deprecated; safe_indexing is deprecated in version 0.22 and will be removed in version 0.24.\n",
            "  warnings.warn(msg, category=FutureWarning)\n",
            "/usr/local/lib/python3.6/dist-packages/sklearn/utils/deprecation.py:87: FutureWarning: Function safe_indexing is deprecated; safe_indexing is deprecated in version 0.22 and will be removed in version 0.24.\n",
            "  warnings.warn(msg, category=FutureWarning)\n",
            "/usr/local/lib/python3.6/dist-packages/sklearn/utils/deprecation.py:87: FutureWarning: Function safe_indexing is deprecated; safe_indexing is deprecated in version 0.22 and will be removed in version 0.24.\n",
            "  warnings.warn(msg, category=FutureWarning)\n",
            "/usr/local/lib/python3.6/dist-packages/sklearn/utils/deprecation.py:87: FutureWarning: Function safe_indexing is deprecated; safe_indexing is deprecated in version 0.22 and will be removed in version 0.24.\n",
            "  warnings.warn(msg, category=FutureWarning)\n",
            "/usr/local/lib/python3.6/dist-packages/sklearn/utils/deprecation.py:87: FutureWarning: Function safe_indexing is deprecated; safe_indexing is deprecated in version 0.22 and will be removed in version 0.24.\n",
            "  warnings.warn(msg, category=FutureWarning)\n",
            "/usr/local/lib/python3.6/dist-packages/sklearn/utils/deprecation.py:87: FutureWarning: Function safe_indexing is deprecated; safe_indexing is deprecated in version 0.22 and will be removed in version 0.24.\n",
            "  warnings.warn(msg, category=FutureWarning)\n",
            "/usr/local/lib/python3.6/dist-packages/sklearn/utils/deprecation.py:87: FutureWarning: Function safe_indexing is deprecated; safe_indexing is deprecated in version 0.22 and will be removed in version 0.24.\n",
            "  warnings.warn(msg, category=FutureWarning)\n",
            "/usr/local/lib/python3.6/dist-packages/sklearn/utils/deprecation.py:87: FutureWarning: Function safe_indexing is deprecated; safe_indexing is deprecated in version 0.22 and will be removed in version 0.24.\n",
            "  warnings.warn(msg, category=FutureWarning)\n",
            "/usr/local/lib/python3.6/dist-packages/sklearn/utils/deprecation.py:87: FutureWarning: Function safe_indexing is deprecated; safe_indexing is deprecated in version 0.22 and will be removed in version 0.24.\n",
            "  warnings.warn(msg, category=FutureWarning)\n",
            "/usr/local/lib/python3.6/dist-packages/sklearn/utils/deprecation.py:87: FutureWarning: Function safe_indexing is deprecated; safe_indexing is deprecated in version 0.22 and will be removed in version 0.24.\n",
            "  warnings.warn(msg, category=FutureWarning)\n",
            "/usr/local/lib/python3.6/dist-packages/sklearn/utils/deprecation.py:87: FutureWarning: Function safe_indexing is deprecated; safe_indexing is deprecated in version 0.22 and will be removed in version 0.24.\n",
            "  warnings.warn(msg, category=FutureWarning)\n",
            "/usr/local/lib/python3.6/dist-packages/sklearn/utils/deprecation.py:87: FutureWarning: Function safe_indexing is deprecated; safe_indexing is deprecated in version 0.22 and will be removed in version 0.24.\n",
            "  warnings.warn(msg, category=FutureWarning)\n",
            "/usr/local/lib/python3.6/dist-packages/sklearn/utils/deprecation.py:87: FutureWarning: Function safe_indexing is deprecated; safe_indexing is deprecated in version 0.22 and will be removed in version 0.24.\n",
            "  warnings.warn(msg, category=FutureWarning)\n"
          ],
          "name": "stderr"
        }
      ]
    },
    {
      "cell_type": "code",
      "metadata": {
        "id": "pOH5RF1cqGrI",
        "colab": {
          "base_uri": "https://localhost:8080/",
          "height": 298
        },
        "outputId": "7997ac92-3059-4a77-f2ae-ff604f731df1"
      },
      "source": [
        "counter = Counter(y)\n",
        "# plot the distribution\n",
        "pyplot.bar(counter.keys(), counter.values())\n",
        "pyplot.show()\n",
        "print(X.shape)\n",
        "print(y.shape)"
      ],
      "execution_count": null,
      "outputs": [
        {
          "output_type": "display_data",
          "data": {
            "image/png": "[encoded data removed]",
            "text/plain": [
              "<Figure size 432x288 with 1 Axes>"
            ]
          },
          "metadata": {
            "tags": [],
            "needs_background": "light"
          }
        },
        {
          "output_type": "stream",
          "text": [
            "(404816, 10)\n",
            "(404816,)\n"
          ],
          "name": "stdout"
        }
      ]
    },
    {
      "cell_type": "code",
      "metadata": {
        "id": "5KFKPDEJ6-Rm"
      },
      "source": [
        ""
      ],
      "execution_count": null,
      "outputs": []
    },
    {
      "cell_type": "markdown",
      "metadata": {
        "id": "3ANooQFp6-4u"
      },
      "source": [
        "### LDA + SVC fit"
      ]
    },
    {
      "cell_type": "code",
      "metadata": {
        "colab": {
          "base_uri": "https://localhost:8080/"
        },
        "id": "svjDk-NA7DIF",
        "outputId": "6a12cf7b-3a41-4e0f-b53f-e1b92d1340ae"
      },
      "source": [
        "from sklearn.svm import LinearSVC\n",
        "SVM_model_linear = LinearSVC(C=1.0)\n",
        "SVM_model_linear.fit(X, y)"
      ],
      "execution_count": null,
      "outputs": [
        {
          "output_type": "execute_result",
          "data": {
            "text/plain": [
              "LinearSVC(C=1.0, class_weight=None, dual=True, fit_intercept=True,\n",
              "          intercept_scaling=1, loss='squared_hinge', max_iter=1000,\n",
              "          multi_class='ovr', penalty='l2', random_state=None, tol=0.0001,\n",
              "          verbose=0)"
            ]
          },
          "metadata": {
            "tags": []
          },
          "execution_count": 37
        }
      ]
    },
    {
      "cell_type": "code",
      "metadata": {
        "colab": {
          "base_uri": "https://localhost:8080/"
        },
        "id": "cyvJJ9Ef7TnO",
        "outputId": "41a3dc48-5c8e-43f8-d1e1-458a3a39a38a"
      },
      "source": [
        "from sklearn.metrics import classification_report\n",
        "\n",
        "valid_pred = SVM_model_linear.predict(valid_LDA)\n",
        "\n",
        "print(classification_report(valid_y, valid_pred))"
      ],
      "execution_count": null,
      "outputs": [
        {
          "output_type": "stream",
          "text": [
            "/usr/local/lib/python3.6/dist-packages/sklearn/metrics/_classification.py:1272: UndefinedMetricWarning: Precision and F-score are ill-defined and being set to 0.0 in labels with no predicted samples. Use `zero_division` parameter to control this behavior.\n",
            "  _warn_prf(average, modifier, msg_start, len(result))\n"
          ],
          "name": "stderr"
        },
        {
          "output_type": "stream",
          "text": [
            "                       precision    recall  f1-score   support\n",
            "\n",
            "             BUSINESS       0.14      0.42      0.21       660\n",
            "               COMEDY       0.00      0.00      0.00       293\n",
            "                CRIME       0.00      0.00      0.00       336\n",
            "              CULTURE       0.06      0.00      0.00       435\n",
            "        ENTERTAINMENT       0.18      0.04      0.06       872\n",
            "          ENVIRONMENT       0.00      0.00      0.00       353\n",
            "                FIFTY       0.21      0.30      0.24       850\n",
            "       HEALTHY LIVING       0.37      0.04      0.06      2218\n",
            "        HOME & LIVING       0.57      0.53      0.55      2787\n",
            "                MEDIA       0.00      0.00      0.00       687\n",
            "            PARENTING       0.22      0.60      0.32      1134\n",
            "             POLITICS       0.64      0.65      0.64      2571\n",
            "RACIAL & LGBTQ ISSUES       0.00      0.00      0.00      1082\n",
            " SCIENCE & TECHNOLOGY       0.10      0.10      0.10       313\n",
            "               SPORTS       0.09      0.57      0.16       301\n",
            "        THE WORLDPOST       0.30      0.63      0.40       638\n",
            "\n",
            "             accuracy                           0.33     15530\n",
            "            macro avg       0.18      0.24      0.17     15530\n",
            "         weighted avg       0.32      0.33      0.29     15530\n",
            "\n"
          ],
          "name": "stdout"
        }
      ]
    },
    {
      "cell_type": "markdown",
      "metadata": {
        "id": "9bs0P9ZZAWFS"
      },
      "source": [
        "### KNN classifier"
      ]
    },
    {
      "cell_type": "code",
      "metadata": {
        "id": "v-fRttgt1z52"
      },
      "source": [
        "from sklearn.neighbors import KNeighborsClassifier\n",
        "\n",
        "KNN_model = KNeighborsClassifier(n_neighbors=10, weights='distance')"
      ],
      "execution_count": null,
      "outputs": []
    },
    {
      "cell_type": "code",
      "metadata": {
        "id": "W3j6nlVQ13Tz",
        "colab": {
          "base_uri": "https://localhost:8080/"
        },
        "outputId": "13dbaca2-7231-4b8d-d983-cffe33f2940d"
      },
      "source": [
        "KNN_model.fit(X, y)"
      ],
      "execution_count": null,
      "outputs": [
        {
          "output_type": "execute_result",
          "data": {
            "text/plain": [
              "KNeighborsClassifier(algorithm='auto', leaf_size=30, metric='minkowski',\n",
              "                     metric_params=None, n_jobs=None, n_neighbors=10, p=2,\n",
              "                     weights='uniform')"
            ]
          },
          "metadata": {
            "tags": []
          },
          "execution_count": 50
        }
      ]
    },
    {
      "cell_type": "code",
      "metadata": {
        "id": "BN_XMopC5m1R"
      },
      "source": [
        "valid_pred = KNN_model.predict(valid_LDA)"
      ],
      "execution_count": null,
      "outputs": []
    },
    {
      "cell_type": "code",
      "metadata": {
        "colab": {
          "base_uri": "https://localhost:8080/"
        },
        "id": "l-9-FaLb49Mz",
        "outputId": "ec84af17-e87d-4e66-8d1d-4e0c26369987"
      },
      "source": [
        "from sklearn.metrics import classification_report\n",
        "\n",
        "print(classification_report(valid_y, valid_pred))"
      ],
      "execution_count": null,
      "outputs": [
        {
          "output_type": "stream",
          "text": [
            "                       precision    recall  f1-score   support\n",
            "\n",
            "             BUSINESS       0.12      0.21      0.15       660\n",
            "               COMEDY       0.04      0.13      0.06       293\n",
            "                CRIME       0.06      0.15      0.08       336\n",
            "              CULTURE       0.04      0.08      0.05       435\n",
            "        ENTERTAINMENT       0.17      0.18      0.17       872\n",
            "          ENVIRONMENT       0.05      0.13      0.07       353\n",
            "                FIFTY       0.14      0.21      0.17       850\n",
            "       HEALTHY LIVING       0.36      0.20      0.26      2218\n",
            "        HOME & LIVING       0.64      0.37      0.47      2787\n",
            "                MEDIA       0.06      0.07      0.06       687\n",
            "            PARENTING       0.19      0.17      0.18      1134\n",
            "             POLITICS       0.68      0.37      0.48      2571\n",
            "RACIAL & LGBTQ ISSUES       0.13      0.07      0.09      1082\n",
            " SCIENCE & TECHNOLOGY       0.06      0.11      0.07       313\n",
            "               SPORTS       0.06      0.13      0.08       301\n",
            "        THE WORLDPOST       0.28      0.31      0.30       638\n",
            "\n",
            "             accuracy                           0.24     15530\n",
            "            macro avg       0.19      0.18      0.17     15530\n",
            "         weighted avg       0.34      0.24      0.27     15530\n",
            "\n"
          ],
          "name": "stdout"
        }
      ]
    },
    {
      "cell_type": "markdown",
      "metadata": {
        "id": "AFXn4NuK4955"
      },
      "source": [
        "### KNN pred testing\n",
        "\n"
      ]
    },
    {
      "cell_type": "code",
      "metadata": {
        "id": "y3oeioyB191K"
      },
      "source": [
        "all_news_n3 = testing.copy()\n",
        "all_news_n3['category'] = y_pred"
      ],
      "execution_count": null,
      "outputs": []
    },
    {
      "cell_type": "code",
      "metadata": {
        "id": "yE3ynz_j2DYU"
      },
      "source": [
        "train_c = pd.DataFrame({'train':Counter(training.category)})\n",
        "test_c = pd.DataFrame({'test':Counter(all_news_n3.category)})\n",
        "categories = train_c.merge(test_c, left_index=True, right_index=True)"
      ],
      "execution_count": null,
      "outputs": []
    },
    {
      "cell_type": "code",
      "metadata": {
        "colab": {
          "base_uri": "https://localhost:8080/",
          "height": 513
        },
        "id": "W-pXzKmN2FVZ",
        "outputId": "04023ff7-5860-48ae-eccd-1fb08368bf45"
      },
      "source": [
        "# plot train category\n",
        "pyplot.bar(categories.index, categories['train'])\n",
        "pyplot.show()\n",
        "\n",
        "# plot test category\n",
        "pyplot.bar(categories.index, categories['test'])\n",
        "pyplot.show()"
      ],
      "execution_count": null,
      "outputs": [
        {
          "output_type": "display_data",
          "data": {
            "image/png": "[encoded data removed]",
            "text/plain": [
              "<Figure size 432x288 with 1 Axes>"
            ]
          },
          "metadata": {
            "tags": [],
            "needs_background": "light"
          }
        },
        {
          "output_type": "display_data",
          "data": {
            "image/png": "[encoded data removed]",
            "text/plain": [
              "<Figure size 432x288 with 1 Axes>"
            ]
          },
          "metadata": {
            "tags": [],
            "needs_background": "light"
          }
        }
      ]
    },
    {
      "cell_type": "code",
      "metadata": {
        "colab": {
          "base_uri": "https://localhost:8080/",
          "height": 232
        },
        "id": "nnleCVBY2Fvw",
        "outputId": "d2c62a91-ae78-4aa9-efa4-f6789864db99"
      },
      "source": [
        "# plot train category\n",
        "pyplot.bar(train_c.keys(), train_c.values())\n",
        "pyplot.show()\n",
        "\n",
        "# plot test category\n",
        "pyplot.bar(test_c.keys(), test_c.values())\n",
        "pyplot.show()"
      ],
      "execution_count": null,
      "outputs": [
        {
          "output_type": "error",
          "ename": "TypeError",
          "evalue": "ignored",
          "traceback": [
            "\u001b[0;31m---------------------------------------------------------------------------\u001b[0m",
            "\u001b[0;31mTypeError\u001b[0m                                 Traceback (most recent call last)",
            "\u001b[0;32m<ipython-input-86-96c9fb0e8db3>\u001b[0m in \u001b[0;36m<module>\u001b[0;34m()\u001b[0m\n\u001b[1;32m      1\u001b[0m \u001b[0;31m# plot train category\u001b[0m\u001b[0;34m\u001b[0m\u001b[0;34m\u001b[0m\u001b[0;34m\u001b[0m\u001b[0m\n\u001b[0;32m----> 2\u001b[0;31m \u001b[0mpyplot\u001b[0m\u001b[0;34m.\u001b[0m\u001b[0mbar\u001b[0m\u001b[0;34m(\u001b[0m\u001b[0mtrain_c\u001b[0m\u001b[0;34m.\u001b[0m\u001b[0mkeys\u001b[0m\u001b[0;34m(\u001b[0m\u001b[0;34m)\u001b[0m\u001b[0;34m,\u001b[0m \u001b[0mtrain_c\u001b[0m\u001b[0;34m.\u001b[0m\u001b[0mvalues\u001b[0m\u001b[0;34m(\u001b[0m\u001b[0;34m)\u001b[0m\u001b[0;34m)\u001b[0m\u001b[0;34m\u001b[0m\u001b[0;34m\u001b[0m\u001b[0m\n\u001b[0m\u001b[1;32m      3\u001b[0m \u001b[0mpyplot\u001b[0m\u001b[0;34m.\u001b[0m\u001b[0mshow\u001b[0m\u001b[0;34m(\u001b[0m\u001b[0;34m)\u001b[0m\u001b[0;34m\u001b[0m\u001b[0;34m\u001b[0m\u001b[0m\n\u001b[1;32m      4\u001b[0m \u001b[0;34m\u001b[0m\u001b[0m\n\u001b[1;32m      5\u001b[0m \u001b[0;31m# plot test category\u001b[0m\u001b[0;34m\u001b[0m\u001b[0;34m\u001b[0m\u001b[0;34m\u001b[0m\u001b[0m\n",
            "\u001b[0;31mTypeError\u001b[0m: 'numpy.ndarray' object is not callable"
          ]
        }
      ]
    },
    {
      "cell_type": "code",
      "metadata": {
        "colab": {
          "base_uri": "https://localhost:8080/"
        },
        "id": "0J53ilpU9rpV",
        "outputId": "49af79ab-8df9-4e72-c92e-449bc493f630"
      },
      "source": [
        "all_news_kn3 = df_test.copy()\n",
        "all_news_kn3['category'] = y_pred\n",
        "print(\"title:\\n\", all_news_kn3.title[10000])\n",
        "print(\"content:\\n\", all_news_kn3.content[10000])\n",
        "print(\"predict:\\n\",all_news_kn3.category[10000])"
      ],
      "execution_count": null,
      "outputs": [
        {
          "output_type": "stream",
          "text": [
            "title:\n",
            " Watch: Spicer Asked How It Feels ’To Work for a Fascist?’ In Apple Store - Breitbart\n",
            "content:\n",
            " Asking @PressSec questions in Apple Store since he doesn’t like the press.  https:  .  While shopping at an Apple Store, White House Press Secretary Sean Spicer was asked whether he had committed treason and how he felt about working for a fascist.  In the video, which was posted on Saturday by Twitter account @shreec, Spicer is asked how it feels “to work for a fascist?” He is further asked, “Have you helped with the Russia stuff? Are you a criminal as well? Have you committed treason too, just like the president?   …     What can you tell me about Russia?” Spicer responded by saying “Thank you” and “such a great country that allows you to be here. ” Spicer then goes about his business in the store, ignoring questions about how he feels about working for a fascist, destroying the country, and lying to the public. (  The Hill) Follow Ian Hanchett on Twitter @IanHanchett\n",
            "predict:\n",
            " ENTERTAINMENT\n"
          ],
          "name": "stdout"
        }
      ]
    },
    {
      "cell_type": "code",
      "metadata": {
        "colab": {
          "base_uri": "https://localhost:8080/"
        },
        "id": "MQQsuk1v_XEO",
        "outputId": "3e2f7778-2791-48fa-cc32-96778188c454"
      },
      "source": [
        "print(\"title:\\n\", all_news_kn3.title[0])\n",
        "print(\"content:\\n\", all_news_kn3.content[0])\n",
        "print(\"predict:\\n\",all_news_kn3.category[0])"
      ],
      "execution_count": null,
      "outputs": [
        {
          "output_type": "stream",
          "text": [
            "title:\n",
            " House Republicans Fret About Winning Their Health Care Suit - The New York Times\n",
            "content:\n",
            " WASHINGTON  —   Congressional Republicans have a new fear when it comes to their    health care lawsuit against the Obama administration: They might win. The incoming Trump administration could choose to no longer defend the executive branch against the suit, which challenges the administration’s authority to spend billions of dollars on health insurance subsidies for   and   Americans, handing House Republicans a big victory on    issues. But a sudden loss of the disputed subsidies could conceivably cause the health care program to implode, leaving millions of people without access to health insurance before Republicans have prepared a replacement. That could lead to chaos in the insurance market and spur a political backlash just as Republicans gain full control of the government. To stave off that outcome, Republicans could find themselves in the awkward position of appropriating huge sums to temporarily prop up the Obama health care law, angering conservative voters who have been demanding an end to the law for years. In another twist, Donald J. Trump’s administration, worried about preserving executive branch prerogatives, could choose to fight its Republican allies in the House on some central questions in the dispute. Eager to avoid an ugly political pileup, Republicans on Capitol Hill and the Trump transition team are gaming out how to handle the lawsuit, which, after the election, has been put in limbo until at least late February by the United States Court of Appeals for the District of Columbia Circuit. They are not yet ready to divulge their strategy. “Given that this pending litigation involves the Obama administration and Congress, it would be inappropriate to comment,” said Phillip J. Blando, a spokesman for the Trump transition effort. “Upon taking office, the Trump administration will evaluate this case and all related aspects of the Affordable Care Act. ” In a potentially   decision in 2015, Judge Rosemary M. Collyer ruled that House Republicans had the standing to sue the executive branch over a spending dispute and that the Obama administration had been distributing the health insurance subsidies, in violation of the Constitution, without approval from Congress. The Justice Department, confident that Judge Collyer’s decision would be reversed, quickly appealed, and the subsidies have remained in place during the appeal. In successfully seeking a temporary halt in the proceedings after Mr. Trump won, House Republicans last month told the court that they “and the  ’s transition team currently are discussing potential options for resolution of this matter, to take effect after the  ’s inauguration on Jan. 20, 2017. ” The suspension of the case, House lawyers said, will “provide the   and his future administration time to consider whether to continue prosecuting or to otherwise resolve this appeal. ” Republican leadership officials in the House acknowledge the possibility of “cascading effects” if the   payments, which have totaled an estimated $13 billion, are suddenly stopped. Insurers that receive the subsidies in exchange for paying    costs such as deductibles and   for eligible consumers could race to drop coverage since they would be losing money. Over all, the loss of the subsidies could destabilize the entire program and cause a lack of confidence that leads other insurers to seek a quick exit as well. Anticipating that the Trump administration might not be inclined to mount a vigorous fight against the House Republicans given the  ’s dim view of the health care law, a team of lawyers this month sought to intervene in the case on behalf of two participants in the health care program. In their request, the lawyers predicted that a deal between House Republicans and the new administration to dismiss or settle the case “will produce devastating consequences for the individuals who receive these reductions, as well as for the nation’s health insurance and health care systems generally. ” No matter what happens, House Republicans say, they want to prevail on two overarching concepts: the congressional power of the purse, and the right of Congress to sue the executive branch if it violates the Constitution regarding that spending power. House Republicans contend that Congress never appropriated the money for the subsidies, as required by the Constitution. In the suit, which was initially championed by John A. Boehner, the House speaker at the time, and later in House committee reports, Republicans asserted that the administration, desperate for the funding, had required the Treasury Department to provide it despite widespread internal skepticism that the spending was proper. The White House said that the spending was a permanent part of the law passed in 2010, and that no annual appropriation was required  —   even though the administration initially sought one. Just as important to House Republicans, Judge Collyer found that Congress had the standing to sue the White House on this issue  —   a ruling that many legal experts said was flawed  —   and they want that precedent to be set to restore congressional leverage over the executive branch. But on spending power and standing, the Trump administration may come under pressure from advocates of presidential authority to fight the House no matter their shared views on health care, since those precedents could have broad repercussions. It is a complicated set of dynamics illustrating how a quick legal victory for the House in the Trump era might come with costs that Republicans never anticipated when they took on the Obama White House.\n",
            "predict:\n",
            " POLITICS\n"
          ],
          "name": "stdout"
        }
      ]
    },
    {
      "cell_type": "markdown",
      "metadata": {
        "id": "pnJ6f7WZAZKb"
      },
      "source": [
        "### SVM"
      ]
    },
    {
      "cell_type": "code",
      "metadata": {
        "id": "GnMd5Qe4AbRa"
      },
      "source": [
        "from sklearn.feature_extraction.text import TfidfVectorizer\n",
        "from sklearn.metrics.pairwise import cosine_similarity\n",
        "from sklearn.svm import SVC"
      ],
      "execution_count": null,
      "outputs": []
    },
    {
      "cell_type": "code",
      "metadata": {
        "colab": {
          "base_uri": "https://localhost:8080/"
        },
        "id": "O129_zc-Aufw",
        "outputId": "363dca1c-890e-4274-c994-fd3c9c083e6d"
      },
      "source": [
        "print(train_x.shape)\n",
        "print(train_y.shape)"
      ],
      "execution_count": null,
      "outputs": [
        {
          "output_type": "stream",
          "text": [
            "(155291, 12795)\n",
            "(155291,)\n"
          ],
          "name": "stdout"
        }
      ]
    },
    {
      "cell_type": "code",
      "metadata": {
        "colab": {
          "base_uri": "https://localhost:8080/"
        },
        "id": "9DXHcZxyAgiT",
        "outputId": "43b67354-70ff-4dbd-8572-ae29c0c78c0b"
      },
      "source": [
        "SVM_model_linear = SVC()\n",
        "SVM_model_linear.fit(train_x,train_y)"
      ],
      "execution_count": null,
      "outputs": [
        {
          "output_type": "execute_result",
          "data": {
            "text/plain": [
              "SVC(C=1.0, break_ties=False, cache_size=200, class_weight=None, coef0=0.0,\n",
              "    decision_function_shape='ovr', degree=3, gamma='scale', kernel='rbf',\n",
              "    max_iter=-1, probability=False, random_state=None, shrinking=True,\n",
              "    tol=0.001, verbose=False)"
            ]
          },
          "metadata": {
            "tags": []
          },
          "execution_count": 118
        }
      ]
    },
    {
      "cell_type": "code",
      "metadata": {
        "colab": {
          "base_uri": "https://localhost:8080/"
        },
        "id": "AsDFvLFIA1Iw",
        "outputId": "d476268f-00db-4b27-f9ee-ef7000696e70"
      },
      "source": [
        "test_pred = SVM_model_linear.predict(valid_SVD)"
      ],
      "execution_count": null,
      "outputs": [
        {
          "output_type": "error",
          "ename": "ValueError",
          "evalue": "ignored",
          "traceback": [
            "\u001b[0;31m---------------------------------------------------------------------------\u001b[0m",
            "\u001b[0;31mValueError\u001b[0m                                Traceback (most recent call last)",
            "\u001b[0;32m<ipython-input-119-345b5eb921e6>\u001b[0m in \u001b[0;36m<module>\u001b[0;34m()\u001b[0m\n\u001b[0;32m----> 1\u001b[0;31m \u001b[0mtest_pred\u001b[0m \u001b[0;34m=\u001b[0m \u001b[0mSVM_model_linear\u001b[0m\u001b[0;34m.\u001b[0m\u001b[0mpredict\u001b[0m\u001b[0;34m(\u001b[0m\u001b[0mvalid_SVD\u001b[0m\u001b[0;34m)\u001b[0m\u001b[0;34m\u001b[0m\u001b[0;34m\u001b[0m\u001b[0m\n\u001b[0m",
            "\u001b[0;32m/usr/local/lib/python3.6/dist-packages/sklearn/svm/_base.py\u001b[0m in \u001b[0;36mpredict\u001b[0;34m(self, X)\u001b[0m\n\u001b[1;32m    592\u001b[0m             \u001b[0my\u001b[0m \u001b[0;34m=\u001b[0m \u001b[0mnp\u001b[0m\u001b[0;34m.\u001b[0m\u001b[0margmax\u001b[0m\u001b[0;34m(\u001b[0m\u001b[0mself\u001b[0m\u001b[0;34m.\u001b[0m\u001b[0mdecision_function\u001b[0m\u001b[0;34m(\u001b[0m\u001b[0mX\u001b[0m\u001b[0;34m)\u001b[0m\u001b[0;34m,\u001b[0m \u001b[0maxis\u001b[0m\u001b[0;34m=\u001b[0m\u001b[0;36m1\u001b[0m\u001b[0;34m)\u001b[0m\u001b[0;34m\u001b[0m\u001b[0;34m\u001b[0m\u001b[0m\n\u001b[1;32m    593\u001b[0m         \u001b[0;32melse\u001b[0m\u001b[0;34m:\u001b[0m\u001b[0;34m\u001b[0m\u001b[0;34m\u001b[0m\u001b[0m\n\u001b[0;32m--> 594\u001b[0;31m             \u001b[0my\u001b[0m \u001b[0;34m=\u001b[0m \u001b[0msuper\u001b[0m\u001b[0;34m(\u001b[0m\u001b[0;34m)\u001b[0m\u001b[0;34m.\u001b[0m\u001b[0mpredict\u001b[0m\u001b[0;34m(\u001b[0m\u001b[0mX\u001b[0m\u001b[0;34m)\u001b[0m\u001b[0;34m\u001b[0m\u001b[0;34m\u001b[0m\u001b[0m\n\u001b[0m\u001b[1;32m    595\u001b[0m         \u001b[0;32mreturn\u001b[0m \u001b[0mself\u001b[0m\u001b[0;34m.\u001b[0m\u001b[0mclasses_\u001b[0m\u001b[0;34m.\u001b[0m\u001b[0mtake\u001b[0m\u001b[0;34m(\u001b[0m\u001b[0mnp\u001b[0m\u001b[0;34m.\u001b[0m\u001b[0masarray\u001b[0m\u001b[0;34m(\u001b[0m\u001b[0my\u001b[0m\u001b[0;34m,\u001b[0m \u001b[0mdtype\u001b[0m\u001b[0;34m=\u001b[0m\u001b[0mnp\u001b[0m\u001b[0;34m.\u001b[0m\u001b[0mintp\u001b[0m\u001b[0;34m)\u001b[0m\u001b[0;34m)\u001b[0m\u001b[0;34m\u001b[0m\u001b[0;34m\u001b[0m\u001b[0m\n\u001b[1;32m    596\u001b[0m \u001b[0;34m\u001b[0m\u001b[0m\n",
            "\u001b[0;32m/usr/local/lib/python3.6/dist-packages/sklearn/svm/_base.py\u001b[0m in \u001b[0;36mpredict\u001b[0;34m(self, X)\u001b[0m\n\u001b[1;32m    313\u001b[0m         \u001b[0my_pred\u001b[0m \u001b[0;34m:\u001b[0m \u001b[0marray\u001b[0m\u001b[0;34m,\u001b[0m \u001b[0mshape\u001b[0m \u001b[0;34m(\u001b[0m\u001b[0mn_samples\u001b[0m\u001b[0;34m,\u001b[0m\u001b[0;34m)\u001b[0m\u001b[0;34m\u001b[0m\u001b[0;34m\u001b[0m\u001b[0m\n\u001b[1;32m    314\u001b[0m         \"\"\"\n\u001b[0;32m--> 315\u001b[0;31m         \u001b[0mX\u001b[0m \u001b[0;34m=\u001b[0m \u001b[0mself\u001b[0m\u001b[0;34m.\u001b[0m\u001b[0m_validate_for_predict\u001b[0m\u001b[0;34m(\u001b[0m\u001b[0mX\u001b[0m\u001b[0;34m)\u001b[0m\u001b[0;34m\u001b[0m\u001b[0;34m\u001b[0m\u001b[0m\n\u001b[0m\u001b[1;32m    316\u001b[0m         \u001b[0mpredict\u001b[0m \u001b[0;34m=\u001b[0m \u001b[0mself\u001b[0m\u001b[0;34m.\u001b[0m\u001b[0m_sparse_predict\u001b[0m \u001b[0;32mif\u001b[0m \u001b[0mself\u001b[0m\u001b[0;34m.\u001b[0m\u001b[0m_sparse\u001b[0m \u001b[0;32melse\u001b[0m \u001b[0mself\u001b[0m\u001b[0;34m.\u001b[0m\u001b[0m_dense_predict\u001b[0m\u001b[0;34m\u001b[0m\u001b[0;34m\u001b[0m\u001b[0m\n\u001b[1;32m    317\u001b[0m         \u001b[0;32mreturn\u001b[0m \u001b[0mpredict\u001b[0m\u001b[0;34m(\u001b[0m\u001b[0mX\u001b[0m\u001b[0;34m)\u001b[0m\u001b[0;34m\u001b[0m\u001b[0;34m\u001b[0m\u001b[0m\n",
            "\u001b[0;32m/usr/local/lib/python3.6/dist-packages/sklearn/svm/_base.py\u001b[0m in \u001b[0;36m_validate_for_predict\u001b[0;34m(self, X)\u001b[0m\n\u001b[1;32m    465\u001b[0m             raise ValueError(\"X.shape[1] = %d should be equal to %d, \"\n\u001b[1;32m    466\u001b[0m                              \u001b[0;34m\"the number of features at training time\"\u001b[0m \u001b[0;34m%\u001b[0m\u001b[0;34m\u001b[0m\u001b[0;34m\u001b[0m\u001b[0m\n\u001b[0;32m--> 467\u001b[0;31m                              (n_features, self.shape_fit_[1]))\n\u001b[0m\u001b[1;32m    468\u001b[0m         \u001b[0;32mreturn\u001b[0m \u001b[0mX\u001b[0m\u001b[0;34m\u001b[0m\u001b[0;34m\u001b[0m\u001b[0m\n\u001b[1;32m    469\u001b[0m \u001b[0;34m\u001b[0m\u001b[0m\n",
            "\u001b[0;31mValueError\u001b[0m: X.shape[1] = 10 should be equal to 12795, the number of features at training time"
          ]
        }
      ]
    },
    {
      "cell_type": "code",
      "metadata": {
        "id": "86DbEbjFBBaz"
      },
      "source": [
        "counter = Counter(test_pred)\n",
        "\n",
        "# plot the distribution\n",
        "pyplot.bar(counter.keys(), counter.values())\n",
        "pyplot.show()"
      ],
      "execution_count": null,
      "outputs": []
    },
    {
      "cell_type": "markdown",
      "metadata": {
        "id": "I4InQG1o78nu"
      },
      "source": [
        ""
      ]
    }
  ]
}